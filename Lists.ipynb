{
 "cells": [
  {
   "cell_type": "markdown",
   "metadata": {},
   "source": [
    "# Lists"
   ]
  },
  {
   "cell_type": "markdown",
   "metadata": {},
   "source": [
    "## Create Lists"
   ]
  },
  {
   "cell_type": "code",
   "execution_count": 1,
   "metadata": {},
   "outputs": [],
   "source": [
    "#1. List with 5 integers in it\n",
    "list1 = [1, 2, 3, 4, 5]\n",
    "\n",
    "#2. List with 5 strings in it\n",
    "list2 = [\"apple\", \"banana\", \"cherry\", \"date\", \"elderberry\"]\n",
    "\n",
    "#3. List with 5 floats in it\n",
    "list3 = [1.1, 2.2, 3.3, 4.4, 5.5]\n",
    "\n",
    "#4. List with integer, floating point number, and string in it\n",
    "list4 = [105, 5.5, \"Red\"]\n",
    "\n",
    "#5. List with 4 lists in it\n",
    "list5 = [[list1], [list2], [list3], [list4]]\n"
   ]
  },
  {
   "cell_type": "markdown",
   "metadata": {},
   "source": [
    "## Indexing"
   ]
  },
  {
   "cell_type": "code",
   "execution_count": 2,
   "metadata": {},
   "outputs": [
    {
     "name": "stdout",
     "output_type": "stream",
     "text": [
      "5 35\n",
      "15\n",
      "[5, 26]\n"
     ]
    }
   ],
   "source": [
    "list6 = [3, 5, 15, 26, 35]\n",
    "\n",
    "#6. Print number 5 and 35\n",
    "print(list6[1], list6[4])\n",
    "\n",
    "#7. Print numbe 15 using negative index\n",
    "print(list6[-3])\n",
    "\n",
    "#8. Print 5 and 26 with interval indexing\n",
    "print(list6[1::2])"
   ]
  },
  {
   "cell_type": "markdown",
   "metadata": {},
   "source": [
    "## List Methods"
   ]
  },
  {
   "cell_type": "code",
   "execution_count": 8,
   "metadata": {},
   "outputs": [
    {
     "name": "stdout",
     "output_type": "stream",
     "text": [
      "[0, 2, 4, 6, 8, 10]\n"
     ]
    }
   ],
   "source": [
    "#9. List of the even numbers from 0 to 10.\n",
    "list_even = list(range(0, 11, 2))\n",
    "print(list_even)"
   ]
  },
  {
   "cell_type": "code",
   "execution_count": 9,
   "metadata": {},
   "outputs": [
    {
     "name": "stdout",
     "output_type": "stream",
     "text": [
      "[0, 2, 4, 6, 8, 10, 12]\n"
     ]
    }
   ],
   "source": [
    "#10. Add the number 55 to the previous list.\n",
    "list_even.append(12)\n",
    "print(list_even)"
   ]
  },
  {
   "cell_type": "code",
   "execution_count": 10,
   "metadata": {},
   "outputs": [
    {
     "name": "stdout",
     "output_type": "stream",
     "text": [
      "[12, 10, 8, 6, 4, 2, 0]\n"
     ]
    }
   ],
   "source": [
    "#11. Put the numbers in descending order (12 down to 0).\n",
    "list_even.sort(reverse=True)\n",
    "print(list_even)"
   ]
  },
  {
   "cell_type": "code",
   "execution_count": 11,
   "metadata": {},
   "outputs": [
    {
     "data": {
      "text/plain": [
       "1"
      ]
     },
     "execution_count": 11,
     "metadata": {},
     "output_type": "execute_result"
    }
   ],
   "source": [
    "#12. Count how many \"12\" are on the list.\n",
    "list_even.count(12)"
   ]
  },
  {
   "cell_type": "code",
   "execution_count": 12,
   "metadata": {},
   "outputs": [
    {
     "name": "stdout",
     "output_type": "stream",
     "text": [
      "[12, 10, 8, 6, 4, 2, 0, 12]\n"
     ]
    }
   ],
   "source": [
    "#13. Add the number 12 to the list again.\n",
    "list_even.append(12)\n",
    "print(list_even)"
   ]
  },
  {
   "cell_type": "code",
   "execution_count": 14,
   "metadata": {},
   "outputs": [
    {
     "data": {
      "text/plain": [
       "2"
      ]
     },
     "execution_count": 14,
     "metadata": {},
     "output_type": "execute_result"
    }
   ],
   "source": [
    "#14. Count how many 12 there are now\n",
    "list_even.count(12)"
   ]
  },
  {
   "cell_type": "code",
   "execution_count": 15,
   "metadata": {},
   "outputs": [
    {
     "name": "stdout",
     "output_type": "stream",
     "text": [
      "[0, 2, 4, 6, 8, 10, 12, 12]\n"
     ]
    }
   ],
   "source": [
    "#15. Ascending order\n",
    "list_even.sort()\n",
    "print(list_even)"
   ]
  },
  {
   "cell_type": "code",
   "execution_count": 16,
   "metadata": {},
   "outputs": [
    {
     "name": "stdout",
     "output_type": "stream",
     "text": [
      "[0, 2, 4, 6, 8, 10, 12]\n"
     ]
    }
   ],
   "source": [
    "#16. Delete the last item from the list\n",
    "list_even.pop()\n",
    "print(list_even)"
   ]
  },
  {
   "cell_type": "code",
   "execution_count": 17,
   "metadata": {},
   "outputs": [
    {
     "data": {
      "text/plain": [
       "7"
      ]
     },
     "execution_count": 17,
     "metadata": {},
     "output_type": "execute_result"
    }
   ],
   "source": [
    "#17. Check how long is the list\n",
    "len(list_even)"
   ]
  }
 ],
 "metadata": {
  "kernelspec": {
   "display_name": "nf_sql",
   "language": "python",
   "name": "python3"
  },
  "language_info": {
   "codemirror_mode": {
    "name": "ipython",
    "version": 3
   },
   "file_extension": ".py",
   "mimetype": "text/x-python",
   "name": "python",
   "nbconvert_exporter": "python",
   "pygments_lexer": "ipython3",
   "version": "3.9.19"
  }
 },
 "nbformat": 4,
 "nbformat_minor": 2
}
