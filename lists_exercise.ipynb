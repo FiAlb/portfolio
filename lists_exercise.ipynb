{
 "cells": [
  {
   "cell_type": "markdown",
   "metadata": {},
   "source": [
    "## Check your understanding!\n",
    "\n",
    "**1 - Create Lists**\n",
    "\n",
    "1. Construct a list with 5 integers in it.\n",
    "2. Construct a list of 5 floats in it.\n",
    "3. Construct a list with only strings in it.\n",
    "4. Construct a list that contains at least one integer, one floating point number, and one string.\n",
    "5. Construct a list that contains a list of integers, a list of floating point numbers, and a list of strings?\n",
    "    * If you saved the lists from questions 1-3 into their own variables then you can do this in more than one way."
   ]
  },
  {
   "cell_type": "code",
   "execution_count": 1,
   "metadata": {},
   "outputs": [],
   "source": [
    "#1\n",
    "list_1 = [1, 2, 3, 4, 5]\n",
    "\n",
    "#2\n",
    "list_2 = [1.4, 5.8, 6.9, 10.65, 104.89]\n",
    "\n",
    "#3\n",
    "list_3 = [\"Apple\", \"orange\", \"Watermelon\", \"Banana\", \"Car\"]\n",
    "\n",
    "#4\n",
    "list_4 = [10, 5.5, \"Caramel\"]\n",
    "\n",
    "#5\n",
    "list_5 = [[list_1], [list_2], [list_3]]"
   ]
  },
  {
   "cell_type": "markdown",
   "metadata": {},
   "source": [
    "**2 - List Indexing**\n",
    "\n",
    "Assume that we are working with the list [3, 7, 12, 15, 22]. \n",
    "\n",
    "1. How would we index into the list to grab the number 7? What about the number 15?\n",
    "2. Using negative indexing, how would we index into the list to grab the number 12?\n",
    "3. How would I use interval indexing to grab 7 and 15 from the list?"
   ]
  },
  {
   "cell_type": "code",
   "execution_count": 96,
   "metadata": {},
   "outputs": [
    {
     "name": "stdout",
     "output_type": "stream",
     "text": [
      "7\n",
      "15\n",
      "12\n",
      "[7, 15]\n"
     ]
    }
   ],
   "source": [
    "list_6 = [3, 7, 12, 15, 22]\n",
    "\n",
    "#1\n",
    "print(list_6[1])\n",
    "print(list_6[3])\n",
    "\n",
    "#2\n",
    "print(list_6[-3])\n",
    "\n",
    "#3\n",
    "print(list_6[1::2])"
   ]
  },
  {
   "cell_type": "markdown",
   "metadata": {},
   "source": [
    "**3 - List Methods**\n",
    "\n",
    "1. Construct a list of the even numbers from 0 to 10.\n",
    "2. Add (with a method) the number 12 to the previous list.\n",
    "3. Use a method on the list to put the numbers in descending order (12 down to 0).\n",
    "4. Call .count(12) on your list. Given what it returns and the name of the method itself, can you take a guess at what this method does?\n",
    "5. Add (with a method) the number 12 to the list again.\n",
    "6. Call .count(12) on your list again. Did you get the intended result?\n",
    "7. Use a method on the list to put the numbers in asscending order (from 0 to 12).\n",
    "8. Remove the last item from the list.\n",
    "9. How many items are now in your list? (you can check if your right with len(my_list))"
   ]
  },
  {
   "cell_type": "code",
   "execution_count": 27,
   "metadata": {},
   "outputs": [
    {
     "name": "stdout",
     "output_type": "stream",
     "text": [
      "[0, 2, 4, 6, 8, 10]\n"
     ]
    }
   ],
   "source": [
    "#1. Construct a list of the even numbers from 0 to 10.\n",
    "list_even = list(range(0, 11, 2))\n",
    "print(list_even)\n"
   ]
  },
  {
   "cell_type": "code",
   "execution_count": 35,
   "metadata": {},
   "outputs": [
    {
     "name": "stdout",
     "output_type": "stream",
     "text": [
      "[0, 2, 4, 6, 8, 10, 12]\n"
     ]
    }
   ],
   "source": [
    "#2. Add (with a method) the number 12 to the previous list.\n",
    "\n",
    "list_even.append(12)\n",
    "print(list_even)"
   ]
  },
  {
   "cell_type": "code",
   "execution_count": 40,
   "metadata": {},
   "outputs": [
    {
     "name": "stdout",
     "output_type": "stream",
     "text": [
      "[12, 10, 8, 6, 4, 2, 0]\n"
     ]
    }
   ],
   "source": [
    "#3. Use a method on the list to put the numbers in descending order (12 down to 0).\n",
    "list_even.sort(reverse=True)\n",
    "print(list_even)"
   ]
  },
  {
   "cell_type": "code",
   "execution_count": 41,
   "metadata": {},
   "outputs": [
    {
     "data": {
      "text/plain": [
       "1"
      ]
     },
     "execution_count": 41,
     "metadata": {},
     "output_type": "execute_result"
    }
   ],
   "source": [
    "#4. Call .count(12) on your list. Given what it returns and the name of the method itself, can you take a guess at what this method does?\n",
    "list_even.count(12)\n",
    "#it counts how many \"12\" are on the list."
   ]
  },
  {
   "cell_type": "code",
   "execution_count": 44,
   "metadata": {},
   "outputs": [
    {
     "name": "stdout",
     "output_type": "stream",
     "text": [
      "[12, 10, 8, 6, 4, 2, 0, 12]\n"
     ]
    }
   ],
   "source": [
    "#5. Add (with a method) the number 12 to the list again.\n",
    "list_even.append(12)\n",
    "print(list_even)"
   ]
  },
  {
   "cell_type": "code",
   "execution_count": 45,
   "metadata": {},
   "outputs": [
    {
     "data": {
      "text/plain": [
       "2"
      ]
     },
     "execution_count": 45,
     "metadata": {},
     "output_type": "execute_result"
    }
   ],
   "source": [
    "#6. Call .count(12) on your list again. Did you get the intended result?\n",
    "list_even.count(12)"
   ]
  },
  {
   "cell_type": "code",
   "execution_count": 97,
   "metadata": {},
   "outputs": [
    {
     "name": "stdout",
     "output_type": "stream",
     "text": [
      "[0, 2, 4, 6, 8, 10, 12]\n"
     ]
    }
   ],
   "source": [
    "#7. Use a method on the list to put the numbers in asscending order (from 0 to 12).\n",
    "list_even.sort()\n",
    "print(list_even)"
   ]
  },
  {
   "cell_type": "code",
   "execution_count": 49,
   "metadata": {},
   "outputs": [
    {
     "name": "stdout",
     "output_type": "stream",
     "text": [
      "[0, 2, 4, 6, 8, 10, 12]\n"
     ]
    }
   ],
   "source": [
    "#8. Remove the last item from the list.\n",
    "list_even.pop()\n",
    "print(list_even)"
   ]
  },
  {
   "cell_type": "code",
   "execution_count": 50,
   "metadata": {},
   "outputs": [
    {
     "data": {
      "text/plain": [
       "7"
      ]
     },
     "execution_count": 50,
     "metadata": {},
     "output_type": "execute_result"
    }
   ],
   "source": [
    "#9. How many items are now in your list? (you can check if your right with len(my_list))\n",
    "len(list_even)"
   ]
  },
  {
   "cell_type": "markdown",
   "metadata": {},
   "source": [
    "**4 - List for storing data and make efficient calculations**"
   ]
  },
  {
   "cell_type": "markdown",
   "metadata": {},
   "source": [
    "Remember this cool feature with 'input'-function, where you can ask for user input:\n",
    "```python\n",
    "user_name = input(\"Enter your name: \")\n",
    "greeting = \"Hello, \" + user_name + \"!\"\n",
    "print(greeting)\n",
    "```\n",
    "\n",
    "*Task:* \n",
    "\n",
    "- Write a program that asks the user for their daily hours of work and for their money spent on lunch. \n",
    "- Store all values that are entered in both user-interfaces in two lists, one should be called `daily_hours` and the other one `lunch_expenses`.\n",
    "- Then, calculate the sum of all daily hours worked so far and the average lunch expenses.\n",
    "- Print out the result to us in a nicely formatted way. \n",
    "(If you want to be really pythonic, try to use string formatting with the format-method and f-strings.)\n",
    "\n",
    "Optional task:\n",
    "- add a feature that let's the user tell you to delete a certain element if it was wrong.\n",
    "- we will not describe possible steps for this in more detail, try to come up with a step-by-step solution yourself :-) "
   ]
  },
  {
   "cell_type": "markdown",
   "metadata": {},
   "source": [
    "\n",
    "<details><summary>\n",
    "Click here for a hint…\n",
    "</summary>\n",
    "A pythonic way to define the two is to first define an empty list with `=[]` and then keep filling that list throughout your program with `.append()`. \n",
    "</details>\n"
   ]
  },
  {
   "cell_type": "code",
   "execution_count": 86,
   "metadata": {},
   "outputs": [],
   "source": [
    "daily_hours = []\n",
    "lunch_expenses = []"
   ]
  },
  {
   "cell_type": "code",
   "execution_count": 89,
   "metadata": {},
   "outputs": [],
   "source": [
    "hours = input(\"Enter your daily hours: \")\n",
    "#greeting = \"You have worked \" + question_hours + \" hours today\"\n",
    "#print(greeting)\n",
    "\n",
    "hours = float(hours)\n"
   ]
  },
  {
   "cell_type": "code",
   "execution_count": 76,
   "metadata": {},
   "outputs": [],
   "source": [
    "expenses = input(\"Enter your daily expenses on lunch: \")\n",
    "\n",
    "expenses = float(expenses)"
   ]
  },
  {
   "cell_type": "code",
   "execution_count": 90,
   "metadata": {},
   "outputs": [],
   "source": [
    "daily_hours.append(hours)\n",
    "lunch_expenses.append(expenses)\n"
   ]
  },
  {
   "cell_type": "code",
   "execution_count": 91,
   "metadata": {},
   "outputs": [],
   "source": [
    "total_hours = sum(daily_hours)\n",
    "average_lunch = sum(lunch_expenses) / len(lunch_expenses)"
   ]
  },
  {
   "cell_type": "code",
   "execution_count": 92,
   "metadata": {},
   "outputs": [
    {
     "name": "stdout",
     "output_type": "stream",
     "text": [
      "[4.0]\n",
      "[10.0]\n",
      "4.0\n",
      "10.0\n"
     ]
    }
   ],
   "source": [
    "print(daily_hours)\n",
    "print(lunch_expenses)\n",
    "\n",
    "print(total_hours)\n",
    "print(average_lunch)"
   ]
  }
 ],
 "metadata": {
  "kernelspec": {
   "display_name": "nf_base_0124",
   "language": "python",
   "name": "python3"
  },
  "language_info": {
   "codemirror_mode": {
    "name": "ipython",
    "version": 3
   },
   "file_extension": ".py",
   "mimetype": "text/x-python",
   "name": "python",
   "nbconvert_exporter": "python",
   "pygments_lexer": "ipython3",
   "version": "3.9.19"
  },
  "orig_nbformat": 4
 },
 "nbformat": 4,
 "nbformat_minor": 2
}
