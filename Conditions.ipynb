{
 "cells": [
  {
   "cell_type": "markdown",
   "metadata": {},
   "source": [
    "# If statements"
   ]
  },
  {
   "cell_type": "code",
   "execution_count": null,
   "metadata": {},
   "outputs": [],
   "source": [
    "# If statement to check if a number is smaller than 1000\n",
    "x = int(input(\"Enter a number: \"))\n",
    "if x < 1000:\n",
    "    print(\"The number is smaller than 1000\")\n",
    "else:\n",
    "    print(\"The number is bigger than 1000\")"
   ]
  },
  {
   "cell_type": "code",
   "execution_count": null,
   "metadata": {},
   "outputs": [],
   "source": [
    "# If statement to check if a number is positive. If so, it adds 50 to the number. \n",
    "x = int(input(\"Enter a number: \"))\n",
    "if x > 0:\n",
    "    x += 50\n",
    "    print(x)\n",
    "else:\n",
    "    print(\"The number is negative.\")"
   ]
  },
  {
   "cell_type": "markdown",
   "metadata": {},
   "source": [
    "# Elif Else statements"
   ]
  },
  {
   "cell_type": "code",
   "execution_count": null,
   "metadata": {},
   "outputs": [],
   "source": [
    "# statement that checks for single, and double digit numbers\n",
    "x = abs(int(input(\"Enter a number: \"))) #I use abs because it accepts negative numbers\n",
    "if x < 10:\n",
    "    print(\"The number is a single digit number\")\n",
    "elif x > 9 and x < 99:\n",
    "    print(\"The number is a double digit number\")\n",
    "else:\n",
    "    print(\"This is not a single or double digit number\")"
   ]
  },
  {
   "cell_type": "markdown",
   "metadata": {},
   "source": [
    "# And or Not statements"
   ]
  },
  {
   "cell_type": "code",
   "execution_count": null,
   "metadata": {},
   "outputs": [],
   "source": [
    "x = int(input(\"Enter a number: \"))\n",
    "if x > 20 and x < 30:\n",
    "    print(x)"
   ]
  },
  {
   "cell_type": "code",
   "execution_count": null,
   "metadata": {},
   "outputs": [],
   "source": [
    "x = int(input(\"Enter a number: \"))\n",
    "if not(x<10):\n",
    "    print(x)"
   ]
  }
 ],
 "metadata": {
  "kernelspec": {
   "display_name": "nf_sql",
   "language": "python",
   "name": "python3"
  },
  "language_info": {
   "name": "python",
   "version": "3.9.19"
  }
 },
 "nbformat": 4,
 "nbformat_minor": 2
}
