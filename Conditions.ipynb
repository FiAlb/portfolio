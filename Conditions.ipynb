{
 "cells": [
  {
   "cell_type": "markdown",
   "metadata": {},
   "source": [
    "# If statements"
   ]
  },
  {
   "cell_type": "code",
   "execution_count": null,
   "metadata": {},
   "outputs": [],
   "source": [
    "# If statement to check if a number is smaller than 1000\n",
    "x = int(input(\"Enter a number: \"))\n",
    "if x < 1000:\n",
    "    print(\"The number is smaller than 1000\")\n",
    "else:\n",
    "    print(\"The number is bigger than 1000\")"
   ]
  },
  {
   "cell_type": "code",
   "execution_count": null,
   "metadata": {},
   "outputs": [],
   "source": [
    "# If statement to check if a number is positive. If so, it adds 50 to the number. \n",
    "x = int(input(\"Enter a number: \"))\n",
    "if x > 0:\n",
    "    x += 50\n",
    "    print(x)\n",
    "else:\n",
    "    print(\"The number is negative.\")"
   ]
  },
  {
   "cell_type": "markdown",
   "metadata": {},
   "source": [
    "# Elif Else statements"
   ]
  },
  {
   "cell_type": "code",
   "execution_count": null,
   "metadata": {},
   "outputs": [],
   "source": [
    "# statement that checks for single, and double digit numbers\n",
    "x = abs(int(input(\"Enter a number: \"))) #I use abs because it accepts negative numbers\n",
    "if x < 10:\n",
    "    print(\"The number is a single digit number\")\n",
    "elif x > 9 and x < 99:\n",
    "    print(\"The number is a double digit number\")\n",
    "else:\n",
    "    print(\"This is not a single or double digit number\")"
   ]
  },
  {
   "cell_type": "markdown",
   "metadata": {},
   "source": [
    "# And or Not statements"
   ]
  },
  {
   "cell_type": "code",
   "execution_count": null,
   "metadata": {},
   "outputs": [],
   "source": [
    "x = int(input(\"Enter a number: \"))\n",
    "if x > 20 and x < 30:\n",
    "    print(x)"
   ]
  },
  {
   "cell_type": "code",
   "execution_count": null,
   "metadata": {},
   "outputs": [],
   "source": [
    "x = int(input(\"Enter a number: \"))\n",
    "if not(x<10):\n",
    "    print(x)"
   ]
  },
  {
   "cell_type": "code",
   "execution_count": null,
   "metadata": {},
   "outputs": [],
   "source": [
    "x = int(input('Enter a number: '))\n",
    "\n",
    "\n",
    "if (x > 1 and x < 50) and not(x > 25 and x < 30):\n",
    "    print(x)  "
   ]
  },
  {
   "cell_type": "markdown",
   "metadata": {},
   "source": [
    "# Clean customer names"
   ]
  },
  {
   "cell_type": "code",
   "execution_count": null,
   "metadata": {},
   "outputs": [],
   "source": [
    "customer_name_1 = 'Picaflor Company GmbH'"
   ]
  },
  {
   "cell_type": "code",
   "execution_count": null,
   "metadata": {},
   "outputs": [],
   "source": [
    "if customer_name_1 == \"Picaflor Company GmbH\":\n",
    "   customer_name_extracted_1 = customer_name_1.replace(\" Company GmbH\", \"\")\n",
    "   print(customer_name_extracted_1)\n",
    "else:\n",
    "    print(customer_name_1)\n",
    "\n",
    "#or\n",
    "\n",
    "if customer_name_1.endswith(\"Company GmbH\"):\n",
    "   customer_name_extracted_1 = customer_name_1.replace(\" Company GmbH\", \"\")\n",
    "   print(customer_name_extracted_1)\n",
    "else:\n",
    "    print(customer_name_1)\n"
   ]
  },
  {
   "cell_type": "code",
   "execution_count": 1,
   "metadata": {},
   "outputs": [],
   "source": [
    "customer_names = ['KUBIKOM Company GmbH',\n",
    "'Company Hauser',\n",
    "'artofhome',\n",
    "'Atlas Companyservice GmbH',\n",
    "'McRae Company',\n",
    "'Companywerte24.de',\n",
    "'Picaflor Company GmbH',\n",
    "'Behrmann Company GmbH',\n",
    "'Blackert & Borchers Company GmbH & Co KG',\n",
    "'Company Martin Lang',\n",
    "'pleasanthome company GmbH']"
   ]
  },
  {
   "cell_type": "code",
   "execution_count": 2,
   "metadata": {},
   "outputs": [
    {
     "name": "stdout",
     "output_type": "stream",
     "text": [
      "['kubikom company gmbh', 'company hauser', 'artofhome', 'atlas companyservice gmbh', 'mcrae company', 'companywerte24.de', 'picaflor company gmbh', 'behrmann company gmbh', 'blackert & borchers company gmbh & co kg', 'company martin lang', 'pleasanthome company gmbh']\n"
     ]
    }
   ],
   "source": [
    "#Lower case customer_names\n",
    "customer_names_clean = []\n",
    "\n",
    "for name in customer_names:\n",
    "    customer_names_clean.append(name.lower())\n",
    "\n",
    "print(customer_names_clean)"
   ]
  },
  {
   "cell_type": "code",
   "execution_count": 3,
   "metadata": {},
   "outputs": [
    {
     "name": "stdout",
     "output_type": "stream",
     "text": [
      "['kubikom', 'company hauser', 'artofhome', 'atlas companyservice', 'mcrae company', 'companywerte24.de', 'picaflor', 'behrmann', 'blackert & borchers', 'company martin lang', 'pleasanthome']\n"
     ]
    },
    {
     "data": {
      "text/plain": [
       "11"
      ]
     },
     "execution_count": 3,
     "metadata": {},
     "output_type": "execute_result"
    }
   ],
   "source": [
    "#Getting only names into a new list\n",
    "customer_names_extracted =[]\n",
    "\n",
    "for name in customer_names_clean:\n",
    "    new_name = name\n",
    "    if name.endswith(' company gmbh'):\n",
    "        customer_names_extracted.append(name.replace(' company gmbh', ''))\n",
    "    elif name.endswith(' gmbh'):\n",
    "        customer_names_extracted.append(name.replace(' gmbh', ''))\n",
    "    elif name.endswith(' company gmbh & co kg'):\n",
    "        customer_names_extracted.append(name.replace(' company gmbh & co kg', ''))\n",
    "    else:\n",
    "        customer_names_extracted.append(name)\n",
    "\n",
    "print(customer_names_extracted)\n",
    "len(customer_names_extracted)"
   ]
  },
  {
   "cell_type": "markdown",
   "metadata": {},
   "source": [
    "# Clean email addresses"
   ]
  },
  {
   "cell_type": "code",
   "execution_count": 4,
   "metadata": {},
   "outputs": [],
   "source": [
    "email_address_list = [\n",
    "'nolan_mckinney3462@the-quickest.com',\n",
    "'brenk4987@bestmail.us',\n",
    "'hugh_mckay4695@postpro.net',\n",
    "'aline3529@emailplus.org',\n",
    "'vaneldik8972@internetemails.net',\n",
    "'efren1904@imap.cc',\n",
    "'oralia_amptman2077@hotmail.com',\n",
    "'edgar8593@fastmail.es',\n",
    "'roseanne7176@ownmail.net',\n",
    "'ramirez7701@123mail.org',\n",
    "'ardell3815@mailsent.net',\n",
    "'terry4639@allmail.net',\n",
    "'dale896@swift-mail.com',\n",
    "'erich_cowan3404@bestmail.us',\n",
    "'agueda4209@mm.st'\n",
    "]"
   ]
  },
  {
   "cell_type": "code",
   "execution_count": 5,
   "metadata": {},
   "outputs": [
    {
     "name": "stdout",
     "output_type": "stream",
     "text": [
      "['the-quickest', 'bestmail', 'postpro', 'emailplus', 'internetemails', 'imap', 'hotmail', 'fastmail', 'ownmail', '123mail', 'mailsent', 'allmail', 'swift-mail', 'bestmail', 'mm']\n"
     ]
    }
   ],
   "source": [
    "#Get the email provider in to a new list\n",
    "email_provider_list =[]\n",
    "\n",
    "for email in email_address_list:\n",
    "    email_provider_list.append(email.split('@')[1].split('.')[0])\n",
    "\n",
    "print(email_provider_list)"
   ]
  }
 ],
 "metadata": {
  "kernelspec": {
   "display_name": "nf_sql",
   "language": "python",
   "name": "python3"
  },
  "language_info": {
   "codemirror_mode": {
    "name": "ipython",
    "version": 3
   },
   "file_extension": ".py",
   "mimetype": "text/x-python",
   "name": "python",
   "nbconvert_exporter": "python",
   "pygments_lexer": "ipython3",
   "version": "3.9.19"
  }
 },
 "nbformat": 4,
 "nbformat_minor": 2
}
