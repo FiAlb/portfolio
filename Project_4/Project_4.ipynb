{
 "cells": [
  {
   "cell_type": "markdown",
   "id": "52a116f5",
   "metadata": {},
   "source": [
    "# Data cleansing "
   ]
  },
  {
   "cell_type": "markdown",
   "id": "d8f08c2b",
   "metadata": {},
   "source": [
    "### Clean dataset on stolen bikes.\n"
   ]
  },
  {
   "cell_type": "markdown",
   "id": "b0f8afee",
   "metadata": {},
   "source": [
    "This dataset is data on bicycle theft crimes at the granular level of Berlin city planning areas, so-called \"LOR\" - \"Lebensweltlich orientierte Räume\". This data is provided by Berlin Open Data and collected by the police of Berlin.  \n",
    "\n",
    "### The goal for today: clean this dataset to prepare it for our data analysis"
   ]
  },
  {
   "cell_type": "code",
   "execution_count": 25,
   "id": "d74a4514",
   "metadata": {},
   "outputs": [],
   "source": [
    "import pandas as pd\n",
    "import numpy as np\n",
    "import geopandas as gpd\n",
    "import matplotlib.pyplot as plt"
   ]
  },
  {
   "cell_type": "markdown",
   "id": "9263d0a5",
   "metadata": {},
   "source": [
    "# Step 1: Reading the file"
   ]
  },
  {
   "cell_type": "code",
   "execution_count": 26,
   "id": "fe484d4e",
   "metadata": {},
   "outputs": [
    {
     "data": {
      "text/html": [
       "<div>\n",
       "<style scoped>\n",
       "    .dataframe tbody tr th:only-of-type {\n",
       "        vertical-align: middle;\n",
       "    }\n",
       "\n",
       "    .dataframe tbody tr th {\n",
       "        vertical-align: top;\n",
       "    }\n",
       "\n",
       "    .dataframe thead th {\n",
       "        text-align: right;\n",
       "    }\n",
       "</style>\n",
       "<table border=\"1\" class=\"dataframe\">\n",
       "  <thead>\n",
       "    <tr style=\"text-align: right;\">\n",
       "      <th></th>\n",
       "      <th>angelegt_am</th>\n",
       "      <th>tatzeit_anfang_datum</th>\n",
       "      <th>tatzeit_anfang_stunde</th>\n",
       "      <th>tatzeit_ende_datum</th>\n",
       "      <th>tatzeit_ende_stunde</th>\n",
       "      <th>lor</th>\n",
       "      <th>schadenshoehe</th>\n",
       "      <th>versuch</th>\n",
       "      <th>art_des_fahrrads</th>\n",
       "      <th>delikt</th>\n",
       "      <th>erfassungsgrund</th>\n",
       "    </tr>\n",
       "  </thead>\n",
       "  <tbody>\n",
       "    <tr>\n",
       "      <th>0</th>\n",
       "      <td>14.09.2020</td>\n",
       "      <td>10.09.2020</td>\n",
       "      <td>10</td>\n",
       "      <td>10.09.2020</td>\n",
       "      <td>12</td>\n",
       "      <td>3400723</td>\n",
       "      <td>706</td>\n",
       "      <td>Nein</td>\n",
       "      <td>Damenfahrrad</td>\n",
       "      <td>Fahrraddiebstahl</td>\n",
       "      <td>Sonstiger schwerer Diebstahl von Fahrrädern</td>\n",
       "    </tr>\n",
       "    <tr>\n",
       "      <th>1</th>\n",
       "      <td>29.09.2020</td>\n",
       "      <td>09.09.2020</td>\n",
       "      <td>16</td>\n",
       "      <td>10.09.2020</td>\n",
       "      <td>7</td>\n",
       "      <td>9200716</td>\n",
       "      <td>220</td>\n",
       "      <td>Nein</td>\n",
       "      <td>Damenfahrrad</td>\n",
       "      <td>Fahrraddiebstahl</td>\n",
       "      <td>Sonstiger schwerer Diebstahl von Fahrrädern</td>\n",
       "    </tr>\n",
       "  </tbody>\n",
       "</table>\n",
       "</div>"
      ],
      "text/plain": [
       "  angelegt_am tatzeit_anfang_datum  tatzeit_anfang_stunde tatzeit_ende_datum  \\\n",
       "0  14.09.2020           10.09.2020                     10         10.09.2020   \n",
       "1  29.09.2020           09.09.2020                     16         10.09.2020   \n",
       "\n",
       "   tatzeit_ende_stunde      lor  schadenshoehe versuch art_des_fahrrads  \\\n",
       "0                   12  3400723            706    Nein     Damenfahrrad   \n",
       "1                    7  9200716            220    Nein     Damenfahrrad   \n",
       "\n",
       "             delikt                              erfassungsgrund  \n",
       "0  Fahrraddiebstahl  Sonstiger schwerer Diebstahl von Fahrrädern  \n",
       "1  Fahrraddiebstahl  Sonstiger schwerer Diebstahl von Fahrrädern  "
      ]
     },
     "execution_count": 26,
     "metadata": {},
     "output_type": "execute_result"
    }
   ],
   "source": [
    "thefts_df_raw = pd.read_csv('./data/Fahrraddiebstahl.csv', encoding='latin-1') \n",
    " # making column names lowercase\n",
    "thefts_df_raw.columns = thefts_df_raw.columns.str.lower() \n",
    "thefts_df_raw.head(2)"
   ]
  },
  {
   "cell_type": "code",
   "execution_count": 27,
   "id": "8ad79892",
   "metadata": {},
   "outputs": [
    {
     "data": {
      "text/plain": [
       "(39407, 11)"
      ]
     },
     "execution_count": 27,
     "metadata": {},
     "output_type": "execute_result"
    }
   ],
   "source": [
    "thefts_df_raw.shape"
   ]
  },
  {
   "cell_type": "code",
   "execution_count": 28,
   "id": "e1baf779",
   "metadata": {},
   "outputs": [
    {
     "name": "stdout",
     "output_type": "stream",
     "text": [
      "<class 'pandas.core.frame.DataFrame'>\n",
      "RangeIndex: 39407 entries, 0 to 39406\n",
      "Data columns (total 11 columns):\n",
      " #   Column                 Non-Null Count  Dtype \n",
      "---  ------                 --------------  ----- \n",
      " 0   angelegt_am            39407 non-null  object\n",
      " 1   tatzeit_anfang_datum   39407 non-null  object\n",
      " 2   tatzeit_anfang_stunde  39407 non-null  int64 \n",
      " 3   tatzeit_ende_datum     39407 non-null  object\n",
      " 4   tatzeit_ende_stunde    39407 non-null  int64 \n",
      " 5   lor                    39407 non-null  int64 \n",
      " 6   schadenshoehe          39407 non-null  int64 \n",
      " 7   versuch                39407 non-null  object\n",
      " 8   art_des_fahrrads       39407 non-null  object\n",
      " 9   delikt                 39407 non-null  object\n",
      " 10  erfassungsgrund        39407 non-null  object\n",
      "dtypes: int64(4), object(7)\n",
      "memory usage: 3.3+ MB\n"
     ]
    }
   ],
   "source": [
    "thefts_df_raw.info()"
   ]
  },
  {
   "cell_type": "code",
   "execution_count": 29,
   "id": "9eb7ff60",
   "metadata": {},
   "outputs": [
    {
     "data": {
      "text/plain": [
       "angelegt_am              object\n",
       "tatzeit_anfang_datum     object\n",
       "tatzeit_anfang_stunde     int64\n",
       "tatzeit_ende_datum       object\n",
       "tatzeit_ende_stunde       int64\n",
       "lor                       int64\n",
       "schadenshoehe             int64\n",
       "versuch                  object\n",
       "art_des_fahrrads         object\n",
       "delikt                   object\n",
       "erfassungsgrund          object\n",
       "dtype: object"
      ]
     },
     "execution_count": 29,
     "metadata": {},
     "output_type": "execute_result"
    }
   ],
   "source": [
    "thefts_df_raw.dtypes"
   ]
  },
  {
   "cell_type": "code",
   "execution_count": 30,
   "id": "bd7e9d19",
   "metadata": {},
   "outputs": [
    {
     "data": {
      "text/plain": [
       "angelegt_am              0\n",
       "tatzeit_anfang_datum     0\n",
       "tatzeit_anfang_stunde    0\n",
       "tatzeit_ende_datum       0\n",
       "tatzeit_ende_stunde      0\n",
       "lor                      0\n",
       "schadenshoehe            0\n",
       "versuch                  0\n",
       "art_des_fahrrads         0\n",
       "delikt                   0\n",
       "erfassungsgrund          0\n",
       "dtype: int64"
      ]
     },
     "execution_count": 30,
     "metadata": {},
     "output_type": "execute_result"
    }
   ],
   "source": [
    "thefts_df_raw.isnull().sum()"
   ]
  },
  {
   "cell_type": "markdown",
   "id": "6a6ba7f3",
   "metadata": {},
   "source": [
    "Cleaning goals:\n",
    "\n",
    "- drop duplicates\n",
    "- drop column 'angelegt_am' and 'erfassungsgrund'\n",
    "- column 'versuch'\n",
    "- column 'tatzeit_anfang_datum': change date string to datetime format  \n",
    "- column 'tatzeit_anfang_ende': change date string to datetime format"
   ]
  },
  {
   "cell_type": "code",
   "execution_count": 31,
   "id": "3a304929",
   "metadata": {},
   "outputs": [
    {
     "data": {
      "text/plain": [
       "pandas.core.frame.DataFrame"
      ]
     },
     "execution_count": 31,
     "metadata": {},
     "output_type": "execute_result"
    }
   ],
   "source": [
    "# duplicates\n",
    "duplicates = thefts_df_raw[thefts_df_raw.duplicated(keep=False)]\n",
    "type(duplicates)"
   ]
  },
  {
   "cell_type": "code",
   "execution_count": 32,
   "id": "f990eca3",
   "metadata": {},
   "outputs": [
    {
     "data": {
      "text/html": [
       "<div>\n",
       "<style scoped>\n",
       "    .dataframe tbody tr th:only-of-type {\n",
       "        vertical-align: middle;\n",
       "    }\n",
       "\n",
       "    .dataframe tbody tr th {\n",
       "        vertical-align: top;\n",
       "    }\n",
       "\n",
       "    .dataframe thead th {\n",
       "        text-align: right;\n",
       "    }\n",
       "</style>\n",
       "<table border=\"1\" class=\"dataframe\">\n",
       "  <thead>\n",
       "    <tr style=\"text-align: right;\">\n",
       "      <th></th>\n",
       "      <th>angelegt_am</th>\n",
       "      <th>tatzeit_anfang_datum</th>\n",
       "      <th>tatzeit_anfang_stunde</th>\n",
       "      <th>tatzeit_ende_datum</th>\n",
       "      <th>tatzeit_ende_stunde</th>\n",
       "      <th>lor</th>\n",
       "      <th>schadenshoehe</th>\n",
       "      <th>versuch</th>\n",
       "      <th>art_des_fahrrads</th>\n",
       "      <th>delikt</th>\n",
       "      <th>erfassungsgrund</th>\n",
       "    </tr>\n",
       "  </thead>\n",
       "  <tbody>\n",
       "    <tr>\n",
       "      <th>29789</th>\n",
       "      <td>01.09.2020</td>\n",
       "      <td>31.08.2020</td>\n",
       "      <td>18</td>\n",
       "      <td>01.09.2020</td>\n",
       "      <td>0</td>\n",
       "      <td>1400940</td>\n",
       "      <td>220</td>\n",
       "      <td>Nein</td>\n",
       "      <td>Mountainbike</td>\n",
       "      <td>Fahrraddiebstahl</td>\n",
       "      <td>Sonstiger schwerer Diebstahl von Fahrrädern</td>\n",
       "    </tr>\n",
       "    <tr>\n",
       "      <th>29866</th>\n",
       "      <td>01.09.2020</td>\n",
       "      <td>31.08.2020</td>\n",
       "      <td>18</td>\n",
       "      <td>01.09.2020</td>\n",
       "      <td>0</td>\n",
       "      <td>1400940</td>\n",
       "      <td>220</td>\n",
       "      <td>Nein</td>\n",
       "      <td>Mountainbike</td>\n",
       "      <td>Fahrraddiebstahl</td>\n",
       "      <td>Sonstiger schwerer Diebstahl von Fahrrädern</td>\n",
       "    </tr>\n",
       "    <tr>\n",
       "      <th>16188</th>\n",
       "      <td>01.09.2021</td>\n",
       "      <td>31.08.2021</td>\n",
       "      <td>16</td>\n",
       "      <td>31.08.2021</td>\n",
       "      <td>17</td>\n",
       "      <td>2400623</td>\n",
       "      <td>3900</td>\n",
       "      <td>Nein</td>\n",
       "      <td>Damenfahrrad</td>\n",
       "      <td>Fahrraddiebstahl</td>\n",
       "      <td>Sonstiger schwerer Diebstahl von Fahrrädern</td>\n",
       "    </tr>\n",
       "    <tr>\n",
       "      <th>16189</th>\n",
       "      <td>01.09.2021</td>\n",
       "      <td>31.08.2021</td>\n",
       "      <td>16</td>\n",
       "      <td>31.08.2021</td>\n",
       "      <td>17</td>\n",
       "      <td>2400623</td>\n",
       "      <td>3900</td>\n",
       "      <td>Nein</td>\n",
       "      <td>Damenfahrrad</td>\n",
       "      <td>Fahrraddiebstahl</td>\n",
       "      <td>Sonstiger schwerer Diebstahl von Fahrrädern</td>\n",
       "    </tr>\n",
       "    <tr>\n",
       "      <th>12041</th>\n",
       "      <td>02.11.2020</td>\n",
       "      <td>31.10.2020</td>\n",
       "      <td>18</td>\n",
       "      <td>02.11.2020</td>\n",
       "      <td>8</td>\n",
       "      <td>10100312</td>\n",
       "      <td>299</td>\n",
       "      <td>Nein</td>\n",
       "      <td>Damenfahrrad</td>\n",
       "      <td>Fahrraddiebstahl</td>\n",
       "      <td>Sonstiger schwerer Diebstahl von Fahrrädern</td>\n",
       "    </tr>\n",
       "    <tr>\n",
       "      <th>12045</th>\n",
       "      <td>02.11.2020</td>\n",
       "      <td>31.10.2020</td>\n",
       "      <td>18</td>\n",
       "      <td>02.11.2020</td>\n",
       "      <td>8</td>\n",
       "      <td>10100312</td>\n",
       "      <td>299</td>\n",
       "      <td>Nein</td>\n",
       "      <td>Damenfahrrad</td>\n",
       "      <td>Fahrraddiebstahl</td>\n",
       "      <td>Sonstiger schwerer Diebstahl von Fahrrädern</td>\n",
       "    </tr>\n",
       "  </tbody>\n",
       "</table>\n",
       "</div>"
      ],
      "text/plain": [
       "      angelegt_am tatzeit_anfang_datum  tatzeit_anfang_stunde  \\\n",
       "29789  01.09.2020           31.08.2020                     18   \n",
       "29866  01.09.2020           31.08.2020                     18   \n",
       "16188  01.09.2021           31.08.2021                     16   \n",
       "16189  01.09.2021           31.08.2021                     16   \n",
       "12041  02.11.2020           31.10.2020                     18   \n",
       "12045  02.11.2020           31.10.2020                     18   \n",
       "\n",
       "      tatzeit_ende_datum  tatzeit_ende_stunde       lor  schadenshoehe  \\\n",
       "29789         01.09.2020                    0   1400940            220   \n",
       "29866         01.09.2020                    0   1400940            220   \n",
       "16188         31.08.2021                   17   2400623           3900   \n",
       "16189         31.08.2021                   17   2400623           3900   \n",
       "12041         02.11.2020                    8  10100312            299   \n",
       "12045         02.11.2020                    8  10100312            299   \n",
       "\n",
       "      versuch art_des_fahrrads            delikt  \\\n",
       "29789    Nein     Mountainbike  Fahrraddiebstahl   \n",
       "29866    Nein     Mountainbike  Fahrraddiebstahl   \n",
       "16188    Nein     Damenfahrrad  Fahrraddiebstahl   \n",
       "16189    Nein     Damenfahrrad  Fahrraddiebstahl   \n",
       "12041    Nein     Damenfahrrad  Fahrraddiebstahl   \n",
       "12045    Nein     Damenfahrrad  Fahrraddiebstahl   \n",
       "\n",
       "                                   erfassungsgrund  \n",
       "29789  Sonstiger schwerer Diebstahl von Fahrrädern  \n",
       "29866  Sonstiger schwerer Diebstahl von Fahrrädern  \n",
       "16188  Sonstiger schwerer Diebstahl von Fahrrädern  \n",
       "16189  Sonstiger schwerer Diebstahl von Fahrrädern  \n",
       "12041  Sonstiger schwerer Diebstahl von Fahrrädern  \n",
       "12045  Sonstiger schwerer Diebstahl von Fahrrädern  "
      ]
     },
     "execution_count": 32,
     "metadata": {},
     "output_type": "execute_result"
    }
   ],
   "source": [
    "duplicates.sort_values(by=['tatzeit_anfang_datum', 'schadenshoehe'])\\\n",
    "    .tail(6)"
   ]
  },
  {
   "cell_type": "code",
   "execution_count": 33,
   "id": "1ff54be1",
   "metadata": {},
   "outputs": [
    {
     "data": {
      "text/plain": [
       "181"
      ]
     },
     "execution_count": 33,
     "metadata": {},
     "output_type": "execute_result"
    }
   ],
   "source": [
    "# total nr of duplicates\n",
    "len(duplicates)"
   ]
  },
  {
   "cell_type": "code",
   "execution_count": 34,
   "id": "82f13222",
   "metadata": {},
   "outputs": [],
   "source": [
    "# dropping duplicates and assigning result to a new dataframe called 'thefts_df_dedup'\n",
    "\n",
    "thefts_df_dedup = thefts_df_raw.drop_duplicates()"
   ]
  },
  {
   "cell_type": "code",
   "execution_count": 35,
   "id": "d360c36d",
   "metadata": {},
   "outputs": [
    {
     "name": "stdout",
     "output_type": "stream",
     "text": [
      "thefts_df_raw count: 39407\n",
      "thefts_df_dedup: 39311\n",
      "difference: 96\n"
     ]
    }
   ],
   "source": [
    "print('thefts_df_raw count: '+str(len(thefts_df_raw)))\n",
    "print('thefts_df_dedup: '+ str(len(thefts_df_dedup)))\n",
    "print('difference: '+ str(len(thefts_df_raw)-len(thefts_df_dedup)))"
   ]
  },
  {
   "cell_type": "code",
   "execution_count": 36,
   "id": "3247b642",
   "metadata": {},
   "outputs": [
    {
     "name": "stdout",
     "output_type": "stream",
     "text": [
      "nr of duplicates: 181\n",
      "nr of unique rows in duplicates: 85\n",
      "nr of duplicated rows in duplicates: 96\n"
     ]
    }
   ],
   "source": [
    "print('nr of duplicates: '+ str(len(duplicates)))\n",
    "print('nr of unique rows in duplicates: '+ str(len(duplicates.drop_duplicates())))\n",
    "print('nr of duplicated rows in duplicates: '+ str(len(duplicates)-len(duplicates.drop_duplicates())))"
   ]
  },
  {
   "cell_type": "code",
   "execution_count": 37,
   "id": "8bc8198c",
   "metadata": {},
   "outputs": [
    {
     "name": "stdout",
     "output_type": "stream",
     "text": [
      "<class 'pandas.core.frame.DataFrame'>\n",
      "Int64Index: 39311 entries, 0 to 39406\n",
      "Data columns (total 11 columns):\n",
      " #   Column                 Non-Null Count  Dtype \n",
      "---  ------                 --------------  ----- \n",
      " 0   angelegt_am            39311 non-null  object\n",
      " 1   tatzeit_anfang_datum   39311 non-null  object\n",
      " 2   tatzeit_anfang_stunde  39311 non-null  int64 \n",
      " 3   tatzeit_ende_datum     39311 non-null  object\n",
      " 4   tatzeit_ende_stunde    39311 non-null  int64 \n",
      " 5   lor                    39311 non-null  int64 \n",
      " 6   schadenshoehe          39311 non-null  int64 \n",
      " 7   versuch                39311 non-null  object\n",
      " 8   art_des_fahrrads       39311 non-null  object\n",
      " 9   delikt                 39311 non-null  object\n",
      " 10  erfassungsgrund        39311 non-null  object\n",
      "dtypes: int64(4), object(7)\n",
      "memory usage: 3.6+ MB\n"
     ]
    }
   ],
   "source": [
    "thefts_df_dedup.info()"
   ]
  },
  {
   "cell_type": "code",
   "execution_count": 38,
   "id": "c8e8b80c",
   "metadata": {},
   "outputs": [],
   "source": [
    "# dropping column 'angelegt_am' and 'erfassungsgrund'\n",
    "thefts_df_dedup = thefts_df_dedup.drop(thefts_df_dedup.columns[[0, 10]], axis='columns')"
   ]
  },
  {
   "cell_type": "code",
   "execution_count": 39,
   "id": "110b21e0",
   "metadata": {},
   "outputs": [
    {
     "name": "stdout",
     "output_type": "stream",
     "text": [
      "<class 'pandas.core.frame.DataFrame'>\n",
      "Int64Index: 39311 entries, 0 to 39406\n",
      "Data columns (total 9 columns):\n",
      " #   Column                 Non-Null Count  Dtype \n",
      "---  ------                 --------------  ----- \n",
      " 0   tatzeit_anfang_datum   39311 non-null  object\n",
      " 1   tatzeit_anfang_stunde  39311 non-null  int64 \n",
      " 2   tatzeit_ende_datum     39311 non-null  object\n",
      " 3   tatzeit_ende_stunde    39311 non-null  int64 \n",
      " 4   lor                    39311 non-null  int64 \n",
      " 5   schadenshoehe          39311 non-null  int64 \n",
      " 6   versuch                39311 non-null  object\n",
      " 7   art_des_fahrrads       39311 non-null  object\n",
      " 8   delikt                 39311 non-null  object\n",
      "dtypes: int64(4), object(5)\n",
      "memory usage: 3.0+ MB\n"
     ]
    }
   ],
   "source": [
    "thefts_df_dedup.info()"
   ]
  },
  {
   "cell_type": "code",
   "execution_count": 40,
   "id": "4c2271ac",
   "metadata": {},
   "outputs": [
    {
     "data": {
      "text/html": [
       "<div>\n",
       "<style scoped>\n",
       "    .dataframe tbody tr th:only-of-type {\n",
       "        vertical-align: middle;\n",
       "    }\n",
       "\n",
       "    .dataframe tbody tr th {\n",
       "        vertical-align: top;\n",
       "    }\n",
       "\n",
       "    .dataframe thead th {\n",
       "        text-align: right;\n",
       "    }\n",
       "</style>\n",
       "<table border=\"1\" class=\"dataframe\">\n",
       "  <thead>\n",
       "    <tr style=\"text-align: right;\">\n",
       "      <th></th>\n",
       "      <th>tatzeit_anfang_datum</th>\n",
       "      <th>tatzeit_anfang_stunde</th>\n",
       "      <th>tatzeit_ende_datum</th>\n",
       "      <th>tatzeit_ende_stunde</th>\n",
       "      <th>lor</th>\n",
       "      <th>schadenshoehe</th>\n",
       "      <th>versuch</th>\n",
       "      <th>art_des_fahrrads</th>\n",
       "      <th>delikt</th>\n",
       "    </tr>\n",
       "  </thead>\n",
       "  <tbody>\n",
       "    <tr>\n",
       "      <th>0</th>\n",
       "      <td>10.09.2020</td>\n",
       "      <td>10</td>\n",
       "      <td>10.09.2020</td>\n",
       "      <td>12</td>\n",
       "      <td>3400723</td>\n",
       "      <td>706</td>\n",
       "      <td>Nein</td>\n",
       "      <td>Damenfahrrad</td>\n",
       "      <td>Fahrraddiebstahl</td>\n",
       "    </tr>\n",
       "    <tr>\n",
       "      <th>1</th>\n",
       "      <td>09.09.2020</td>\n",
       "      <td>16</td>\n",
       "      <td>10.09.2020</td>\n",
       "      <td>7</td>\n",
       "      <td>9200716</td>\n",
       "      <td>220</td>\n",
       "      <td>Nein</td>\n",
       "      <td>Damenfahrrad</td>\n",
       "      <td>Fahrraddiebstahl</td>\n",
       "    </tr>\n",
       "    <tr>\n",
       "      <th>2</th>\n",
       "      <td>10.09.2020</td>\n",
       "      <td>15</td>\n",
       "      <td>10.09.2020</td>\n",
       "      <td>18</td>\n",
       "      <td>6100207</td>\n",
       "      <td>550</td>\n",
       "      <td>Nein</td>\n",
       "      <td>Herrenfahrrad</td>\n",
       "      <td>Fahrraddiebstahl</td>\n",
       "    </tr>\n",
       "    <tr>\n",
       "      <th>3</th>\n",
       "      <td>10.09.2020</td>\n",
       "      <td>20</td>\n",
       "      <td>10.09.2020</td>\n",
       "      <td>21</td>\n",
       "      <td>1300733</td>\n",
       "      <td>548</td>\n",
       "      <td>Nein</td>\n",
       "      <td>Herrenfahrrad</td>\n",
       "      <td>Fahrraddiebstahl</td>\n",
       "    </tr>\n",
       "    <tr>\n",
       "      <th>4</th>\n",
       "      <td>09.09.2020</td>\n",
       "      <td>22</td>\n",
       "      <td>10.09.2020</td>\n",
       "      <td>11</td>\n",
       "      <td>8100207</td>\n",
       "      <td>700</td>\n",
       "      <td>Nein</td>\n",
       "      <td>Fahrrad</td>\n",
       "      <td>Fahrraddiebstahl</td>\n",
       "    </tr>\n",
       "  </tbody>\n",
       "</table>\n",
       "</div>"
      ],
      "text/plain": [
       "  tatzeit_anfang_datum  tatzeit_anfang_stunde tatzeit_ende_datum  \\\n",
       "0           10.09.2020                     10         10.09.2020   \n",
       "1           09.09.2020                     16         10.09.2020   \n",
       "2           10.09.2020                     15         10.09.2020   \n",
       "3           10.09.2020                     20         10.09.2020   \n",
       "4           09.09.2020                     22         10.09.2020   \n",
       "\n",
       "   tatzeit_ende_stunde      lor  schadenshoehe versuch art_des_fahrrads  \\\n",
       "0                   12  3400723            706    Nein     Damenfahrrad   \n",
       "1                    7  9200716            220    Nein     Damenfahrrad   \n",
       "2                   18  6100207            550    Nein    Herrenfahrrad   \n",
       "3                   21  1300733            548    Nein    Herrenfahrrad   \n",
       "4                   11  8100207            700    Nein          Fahrrad   \n",
       "\n",
       "             delikt  \n",
       "0  Fahrraddiebstahl  \n",
       "1  Fahrraddiebstahl  \n",
       "2  Fahrraddiebstahl  \n",
       "3  Fahrraddiebstahl  \n",
       "4  Fahrraddiebstahl  "
      ]
     },
     "execution_count": 40,
     "metadata": {},
     "output_type": "execute_result"
    }
   ],
   "source": [
    "thefts_df_dedup.head()"
   ]
  },
  {
   "cell_type": "code",
   "execution_count": 41,
   "id": "e3dcf4ec",
   "metadata": {},
   "outputs": [
    {
     "data": {
      "text/plain": [
       "Nein         39137\n",
       "Ja             167\n",
       "Unbekannt        7\n",
       "Name: versuch, dtype: int64"
      ]
     },
     "execution_count": 41,
     "metadata": {},
     "output_type": "execute_result"
    }
   ],
   "source": [
    "# column versuch defines if it was only an attempt or it was indeed a theft. Let's take a look\n",
    "thefts_df_dedup.versuch.value_counts()"
   ]
  },
  {
   "cell_type": "code",
   "execution_count": 42,
   "id": "e483cb8b",
   "metadata": {},
   "outputs": [],
   "source": [
    "# There are 167 attempts and 7 thefts of unknown state in our dataset. Since I am interested in thefts, I decide to drop those observations.\n",
    "thefts_df_dedup = thefts_df_dedup[~thefts_df_dedup['versuch'].isin(['Ja', 'Unbekannt'])]\n"
   ]
  },
  {
   "cell_type": "code",
   "execution_count": 43,
   "id": "450b7ff6",
   "metadata": {},
   "outputs": [
    {
     "data": {
      "text/plain": [
       "Nein    39137\n",
       "Name: versuch, dtype: int64"
      ]
     },
     "execution_count": 43,
     "metadata": {},
     "output_type": "execute_result"
    }
   ],
   "source": [
    "thefts_df_dedup.versuch.value_counts()"
   ]
  },
  {
   "cell_type": "code",
   "execution_count": 44,
   "id": "631c4289",
   "metadata": {},
   "outputs": [],
   "source": [
    "# changing date text string to datetime datatype\n",
    "thefts_df_dedup['tatzeit_anfang_datum'] = pd.to_datetime(thefts_df_dedup['tatzeit_anfang_datum'], format='%d.%m.%Y')\n",
    "thefts_df_dedup['tatzeit_ende_datum'] = pd.to_datetime(thefts_df_dedup['tatzeit_ende_datum'], dayfirst=True)"
   ]
  },
  {
   "cell_type": "code",
   "execution_count": 45,
   "id": "488f7d0f",
   "metadata": {},
   "outputs": [
    {
     "name": "stdout",
     "output_type": "stream",
     "text": [
      "<class 'pandas.core.frame.DataFrame'>\n",
      "Int64Index: 39137 entries, 0 to 39406\n",
      "Data columns (total 9 columns):\n",
      " #   Column                 Non-Null Count  Dtype         \n",
      "---  ------                 --------------  -----         \n",
      " 0   tatzeit_anfang_datum   39137 non-null  datetime64[ns]\n",
      " 1   tatzeit_anfang_stunde  39137 non-null  int64         \n",
      " 2   tatzeit_ende_datum     39137 non-null  datetime64[ns]\n",
      " 3   tatzeit_ende_stunde    39137 non-null  int64         \n",
      " 4   lor                    39137 non-null  int64         \n",
      " 5   schadenshoehe          39137 non-null  int64         \n",
      " 6   versuch                39137 non-null  object        \n",
      " 7   art_des_fahrrads       39137 non-null  object        \n",
      " 8   delikt                 39137 non-null  object        \n",
      "dtypes: datetime64[ns](2), int64(4), object(3)\n",
      "memory usage: 3.0+ MB\n"
     ]
    }
   ],
   "source": [
    "#checking the data change\n",
    "thefts_df_dedup.info() "
   ]
  },
  {
   "cell_type": "code",
   "execution_count": 46,
   "id": "571fe91e",
   "metadata": {},
   "outputs": [],
   "source": [
    "# thefts_df_dedup['tatzeit_ende_datum'] = pd.to_datetime(thefts_df_dedup['tatzeit_ende_datum'], dayfirst=True)"
   ]
  },
  {
   "cell_type": "code",
   "execution_count": 47,
   "id": "f82f63d5",
   "metadata": {},
   "outputs": [
    {
     "data": {
      "text/html": [
       "<div>\n",
       "<style scoped>\n",
       "    .dataframe tbody tr th:only-of-type {\n",
       "        vertical-align: middle;\n",
       "    }\n",
       "\n",
       "    .dataframe tbody tr th {\n",
       "        vertical-align: top;\n",
       "    }\n",
       "\n",
       "    .dataframe thead th {\n",
       "        text-align: right;\n",
       "    }\n",
       "</style>\n",
       "<table border=\"1\" class=\"dataframe\">\n",
       "  <thead>\n",
       "    <tr style=\"text-align: right;\">\n",
       "      <th></th>\n",
       "      <th>tatzeit_anfang_datum</th>\n",
       "      <th>tatzeit_anfang_stunde</th>\n",
       "      <th>tatzeit_ende_datum</th>\n",
       "      <th>tatzeit_ende_stunde</th>\n",
       "      <th>lor</th>\n",
       "      <th>schadenshoehe</th>\n",
       "      <th>versuch</th>\n",
       "      <th>art_des_fahrrads</th>\n",
       "      <th>delikt</th>\n",
       "    </tr>\n",
       "  </thead>\n",
       "  <tbody>\n",
       "    <tr>\n",
       "      <th>0</th>\n",
       "      <td>2020-09-10</td>\n",
       "      <td>10</td>\n",
       "      <td>2020-09-10</td>\n",
       "      <td>12</td>\n",
       "      <td>3400723</td>\n",
       "      <td>706</td>\n",
       "      <td>Nein</td>\n",
       "      <td>Damenfahrrad</td>\n",
       "      <td>Fahrraddiebstahl</td>\n",
       "    </tr>\n",
       "    <tr>\n",
       "      <th>1</th>\n",
       "      <td>2020-09-09</td>\n",
       "      <td>16</td>\n",
       "      <td>2020-09-10</td>\n",
       "      <td>7</td>\n",
       "      <td>9200716</td>\n",
       "      <td>220</td>\n",
       "      <td>Nein</td>\n",
       "      <td>Damenfahrrad</td>\n",
       "      <td>Fahrraddiebstahl</td>\n",
       "    </tr>\n",
       "    <tr>\n",
       "      <th>2</th>\n",
       "      <td>2020-09-10</td>\n",
       "      <td>15</td>\n",
       "      <td>2020-09-10</td>\n",
       "      <td>18</td>\n",
       "      <td>6100207</td>\n",
       "      <td>550</td>\n",
       "      <td>Nein</td>\n",
       "      <td>Herrenfahrrad</td>\n",
       "      <td>Fahrraddiebstahl</td>\n",
       "    </tr>\n",
       "    <tr>\n",
       "      <th>3</th>\n",
       "      <td>2020-09-10</td>\n",
       "      <td>20</td>\n",
       "      <td>2020-09-10</td>\n",
       "      <td>21</td>\n",
       "      <td>1300733</td>\n",
       "      <td>548</td>\n",
       "      <td>Nein</td>\n",
       "      <td>Herrenfahrrad</td>\n",
       "      <td>Fahrraddiebstahl</td>\n",
       "    </tr>\n",
       "    <tr>\n",
       "      <th>4</th>\n",
       "      <td>2020-09-09</td>\n",
       "      <td>22</td>\n",
       "      <td>2020-09-10</td>\n",
       "      <td>11</td>\n",
       "      <td>8100207</td>\n",
       "      <td>700</td>\n",
       "      <td>Nein</td>\n",
       "      <td>Fahrrad</td>\n",
       "      <td>Fahrraddiebstahl</td>\n",
       "    </tr>\n",
       "  </tbody>\n",
       "</table>\n",
       "</div>"
      ],
      "text/plain": [
       "  tatzeit_anfang_datum  tatzeit_anfang_stunde tatzeit_ende_datum  \\\n",
       "0           2020-09-10                     10         2020-09-10   \n",
       "1           2020-09-09                     16         2020-09-10   \n",
       "2           2020-09-10                     15         2020-09-10   \n",
       "3           2020-09-10                     20         2020-09-10   \n",
       "4           2020-09-09                     22         2020-09-10   \n",
       "\n",
       "   tatzeit_ende_stunde      lor  schadenshoehe versuch art_des_fahrrads  \\\n",
       "0                   12  3400723            706    Nein     Damenfahrrad   \n",
       "1                    7  9200716            220    Nein     Damenfahrrad   \n",
       "2                   18  6100207            550    Nein    Herrenfahrrad   \n",
       "3                   21  1300733            548    Nein    Herrenfahrrad   \n",
       "4                   11  8100207            700    Nein          Fahrrad   \n",
       "\n",
       "             delikt  \n",
       "0  Fahrraddiebstahl  \n",
       "1  Fahrraddiebstahl  \n",
       "2  Fahrraddiebstahl  \n",
       "3  Fahrraddiebstahl  \n",
       "4  Fahrraddiebstahl  "
      ]
     },
     "execution_count": 47,
     "metadata": {},
     "output_type": "execute_result"
    }
   ],
   "source": [
    "thefts_df_dedup.head()"
   ]
  },
  {
   "cell_type": "code",
   "execution_count": 48,
   "id": "09b2b6bb",
   "metadata": {},
   "outputs": [
    {
     "data": {
      "text/plain": [
       "(Timestamp('2020-01-01 00:00:00'), Timestamp('2021-11-28 00:00:00'))"
      ]
     },
     "execution_count": 48,
     "metadata": {},
     "output_type": "execute_result"
    }
   ],
   "source": [
    "# Calculate the timeframe of this dataset\n",
    "thefts_df_dedup.tatzeit_anfang_datum.min(), thefts_df_dedup.tatzeit_ende_datum.max()"
   ]
  },
  {
   "cell_type": "code",
   "execution_count": 49,
   "id": "b1f7ab48",
   "metadata": {},
   "outputs": [
    {
     "data": {
      "text/plain": [
       "Timedelta('697 days 00:00:00')"
      ]
     },
     "execution_count": 49,
     "metadata": {},
     "output_type": "execute_result"
    }
   ],
   "source": [
    "thefts_df_dedup.tatzeit_ende_datum.max() - thefts_df_dedup.tatzeit_anfang_datum.min()"
   ]
  },
  {
   "cell_type": "code",
   "execution_count": 50,
   "id": "46f40ce8",
   "metadata": {},
   "outputs": [
    {
     "data": {
      "image/png": "[encoded data removed]",
      "text/plain": [
       "<Figure size 640x480 with 1 Axes>"
      ]
     },
     "metadata": {},
     "output_type": "display_data"
    }
   ],
   "source": [
    "thefts_df_dedup['tatzeit_anfang_stunde'].plot(kind='hist', color='#4c1c1c')\n",
    "plt.xlabel('Time')\n",
    "plt.ylabel('Frequency')\n",
    "plt.title('Time of theft')\n",
    "plt.show()"
   ]
  },
  {
   "cell_type": "code",
   "execution_count": 51,
   "id": "ce320305",
   "metadata": {},
   "outputs": [
    {
     "data": {
      "image/png": "[encoded data removed]",
      "text/plain": [
       "<Figure size 640x480 with 1 Axes>"
      ]
     },
     "metadata": {},
     "output_type": "display_data"
    }
   ],
   "source": [
    "thefts_df_dedup['lor'].plot(kind='hist', color='#7b8d75');"
   ]
  },
  {
   "cell_type": "markdown",
   "id": "d75af3c1",
   "metadata": {},
   "source": [
    "Here I see where the most thefts occured in Berlin. However, since the LOR (Local Organizational Region) of Berlin is not clear enough, let's plot this info into a map. For this I will a df with the information of lor code, address and count of thefts.\n",
    "\n",
    "There are two files: one contains the latitude and longitude and another the address. I will first merge them."
   ]
  },
  {
   "cell_type": "code",
   "execution_count": null,
   "id": "7069ecd5",
   "metadata": {},
   "outputs": [],
   "source": [
    "#importing the info about the LOR (latitude and longitude)\n",
    "lor_shapefile_path = \"lor_2021-01-01_k3_shapefiles_nur_id\\LOR_2023-01-01_PLR_EPSG_25833_nur_ID.shp\"\n",
    "gdf_lor = gpd.read_file(lor_shapefile_path)"
   ]
  },
  {
   "cell_type": "code",
   "execution_count": 53,
   "id": "3e492c66",
   "metadata": {},
   "outputs": [
    {
     "data": {
      "text/html": [
       "<div>\n",
       "<style scoped>\n",
       "    .dataframe tbody tr th:only-of-type {\n",
       "        vertical-align: middle;\n",
       "    }\n",
       "\n",
       "    .dataframe tbody tr th {\n",
       "        vertical-align: top;\n",
       "    }\n",
       "\n",
       "    .dataframe thead th {\n",
       "        text-align: right;\n",
       "    }\n",
       "</style>\n",
       "<table border=\"1\" class=\"dataframe\">\n",
       "  <thead>\n",
       "    <tr style=\"text-align: right;\">\n",
       "      <th></th>\n",
       "      <th>PLR_ID</th>\n",
       "      <th>geometry</th>\n",
       "    </tr>\n",
       "  </thead>\n",
       "  <tbody>\n",
       "    <tr>\n",
       "      <th>0</th>\n",
       "      <td>08401245</td>\n",
       "      <td>POLYGON ((397994.196 5806511.717, 397993.956 5...</td>\n",
       "    </tr>\n",
       "    <tr>\n",
       "      <th>1</th>\n",
       "      <td>08401244</td>\n",
       "      <td>POLYGON ((398223.600 5807886.460, 398227.359 5...</td>\n",
       "    </tr>\n",
       "    <tr>\n",
       "      <th>2</th>\n",
       "      <td>08401246</td>\n",
       "      <td>POLYGON ((397747.159 5808365.587, 397773.792 5...</td>\n",
       "    </tr>\n",
       "    <tr>\n",
       "      <th>3</th>\n",
       "      <td>08401243</td>\n",
       "      <td>POLYGON ((397023.730 5809326.070, 397109.311 5...</td>\n",
       "    </tr>\n",
       "    <tr>\n",
       "      <th>4</th>\n",
       "      <td>08401242</td>\n",
       "      <td>POLYGON ((397023.730 5809326.070, 397041.045 5...</td>\n",
       "    </tr>\n",
       "  </tbody>\n",
       "</table>\n",
       "</div>"
      ],
      "text/plain": [
       "     PLR_ID                                           geometry\n",
       "0  08401245  POLYGON ((397994.196 5806511.717, 397993.956 5...\n",
       "1  08401244  POLYGON ((398223.600 5807886.460, 398227.359 5...\n",
       "2  08401246  POLYGON ((397747.159 5808365.587, 397773.792 5...\n",
       "3  08401243  POLYGON ((397023.730 5809326.070, 397109.311 5...\n",
       "4  08401242  POLYGON ((397023.730 5809326.070, 397041.045 5..."
      ]
     },
     "execution_count": 53,
     "metadata": {},
     "output_type": "execute_result"
    }
   ],
   "source": [
    "#checking how this new geodataframe looks like\n",
    "gdf_lor.head()"
   ]
  },
  {
   "cell_type": "code",
   "execution_count": 54,
   "id": "27e141ba",
   "metadata": {},
   "outputs": [
    {
     "name": "stdout",
     "output_type": "stream",
     "text": [
      "<class 'geopandas.geodataframe.GeoDataFrame'>\n",
      "RangeIndex: 542 entries, 0 to 541\n",
      "Data columns (total 2 columns):\n",
      " #   Column    Non-Null Count  Dtype   \n",
      "---  ------    --------------  -----   \n",
      " 0   PLR_ID    542 non-null    object  \n",
      " 1   geometry  542 non-null    geometry\n",
      "dtypes: geometry(1), object(1)\n",
      "memory usage: 8.6+ KB\n"
     ]
    }
   ],
   "source": [
    "gdf_lor.info()"
   ]
  },
  {
   "cell_type": "code",
   "execution_count": 56,
   "id": "e49d5622",
   "metadata": {},
   "outputs": [
    {
     "data": {
      "text/html": [
       "<div>\n",
       "<style scoped>\n",
       "    .dataframe tbody tr th:only-of-type {\n",
       "        vertical-align: middle;\n",
       "    }\n",
       "\n",
       "    .dataframe tbody tr th {\n",
       "        vertical-align: top;\n",
       "    }\n",
       "\n",
       "    .dataframe thead th {\n",
       "        text-align: right;\n",
       "    }\n",
       "</style>\n",
       "<table border=\"1\" class=\"dataframe\">\n",
       "  <thead>\n",
       "    <tr style=\"text-align: right;\">\n",
       "      <th></th>\n",
       "      <th>PLR_ID</th>\n",
       "      <th>PLR_Name</th>\n",
       "    </tr>\n",
       "  </thead>\n",
       "  <tbody>\n",
       "    <tr>\n",
       "      <th>0</th>\n",
       "      <td>1100101</td>\n",
       "      <td>Stülerstraße</td>\n",
       "    </tr>\n",
       "    <tr>\n",
       "      <th>1</th>\n",
       "      <td>1100102</td>\n",
       "      <td>Großer Tiergarten</td>\n",
       "    </tr>\n",
       "    <tr>\n",
       "      <th>2</th>\n",
       "      <td>1100103</td>\n",
       "      <td>Lützowstraße</td>\n",
       "    </tr>\n",
       "    <tr>\n",
       "      <th>3</th>\n",
       "      <td>1100104</td>\n",
       "      <td>Körnerstraße</td>\n",
       "    </tr>\n",
       "    <tr>\n",
       "      <th>4</th>\n",
       "      <td>1100205</td>\n",
       "      <td>Wilhelmstraße</td>\n",
       "    </tr>\n",
       "  </tbody>\n",
       "</table>\n",
       "</div>"
      ],
      "text/plain": [
       "    PLR_ID           PLR_Name\n",
       "0  1100101       Stülerstraße\n",
       "1  1100102  Großer Tiergarten\n",
       "2  1100103       Lützowstraße\n",
       "3  1100104       Körnerstraße\n",
       "4  1100205      Wilhelmstraße"
      ]
     },
     "execution_count": 56,
     "metadata": {},
     "output_type": "execute_result"
    }
   ],
   "source": [
    "#now it is return of the address\n",
    "address_df = pd.read_excel('./data/address_df.xlsx', sheet_name='LOR_2023_PLR')\n",
    "address_df.head()"
   ]
  },
  {
   "cell_type": "code",
   "execution_count": 57,
   "id": "2fc553d0",
   "metadata": {},
   "outputs": [
    {
     "name": "stdout",
     "output_type": "stream",
     "text": [
      "<class 'pandas.core.frame.DataFrame'>\n",
      "RangeIndex: 542 entries, 0 to 541\n",
      "Data columns (total 2 columns):\n",
      " #   Column    Non-Null Count  Dtype \n",
      "---  ------    --------------  ----- \n",
      " 0   PLR_ID    542 non-null    int64 \n",
      " 1   PLR_Name  542 non-null    object\n",
      "dtypes: int64(1), object(1)\n",
      "memory usage: 8.6+ KB\n"
     ]
    }
   ],
   "source": [
    "address_df.info()"
   ]
  },
  {
   "cell_type": "markdown",
   "id": "84798a46",
   "metadata": {},
   "source": [
    "The merge will be on column PLR_ID and for this they need to have the same dtype. Let's change the dtype of address_df.PLR_ID to object."
   ]
  },
  {
   "cell_type": "code",
   "execution_count": 58,
   "id": "10d341d1",
   "metadata": {},
   "outputs": [
    {
     "name": "stdout",
     "output_type": "stream",
     "text": [
      "<class 'pandas.core.frame.DataFrame'>\n",
      "RangeIndex: 542 entries, 0 to 541\n",
      "Data columns (total 2 columns):\n",
      " #   Column    Non-Null Count  Dtype \n",
      "---  ------    --------------  ----- \n",
      " 0   PLR_ID    542 non-null    object\n",
      " 1   PLR_Name  542 non-null    object\n",
      "dtypes: object(2)\n",
      "memory usage: 8.6+ KB\n"
     ]
    }
   ],
   "source": [
    "address_df['PLR_ID'] = address_df['PLR_ID'].astype(str)\n",
    "address_df.info()"
   ]
  },
  {
   "cell_type": "code",
   "execution_count": 59,
   "id": "91c05e35",
   "metadata": {},
   "outputs": [
    {
     "data": {
      "text/html": [
       "<div>\n",
       "<style scoped>\n",
       "    .dataframe tbody tr th:only-of-type {\n",
       "        vertical-align: middle;\n",
       "    }\n",
       "\n",
       "    .dataframe tbody tr th {\n",
       "        vertical-align: top;\n",
       "    }\n",
       "\n",
       "    .dataframe thead th {\n",
       "        text-align: right;\n",
       "    }\n",
       "</style>\n",
       "<table border=\"1\" class=\"dataframe\">\n",
       "  <thead>\n",
       "    <tr style=\"text-align: right;\">\n",
       "      <th></th>\n",
       "      <th>PLR_ID</th>\n",
       "      <th>geometry</th>\n",
       "    </tr>\n",
       "  </thead>\n",
       "  <tbody>\n",
       "    <tr>\n",
       "      <th>0</th>\n",
       "      <td>8401245</td>\n",
       "      <td>POLYGON ((397994.196 5806511.717, 397993.956 5...</td>\n",
       "    </tr>\n",
       "    <tr>\n",
       "      <th>1</th>\n",
       "      <td>8401244</td>\n",
       "      <td>POLYGON ((398223.600 5807886.460, 398227.359 5...</td>\n",
       "    </tr>\n",
       "    <tr>\n",
       "      <th>2</th>\n",
       "      <td>8401246</td>\n",
       "      <td>POLYGON ((397747.159 5808365.587, 397773.792 5...</td>\n",
       "    </tr>\n",
       "    <tr>\n",
       "      <th>3</th>\n",
       "      <td>8401243</td>\n",
       "      <td>POLYGON ((397023.730 5809326.070, 397109.311 5...</td>\n",
       "    </tr>\n",
       "    <tr>\n",
       "      <th>4</th>\n",
       "      <td>8401242</td>\n",
       "      <td>POLYGON ((397023.730 5809326.070, 397041.045 5...</td>\n",
       "    </tr>\n",
       "  </tbody>\n",
       "</table>\n",
       "</div>"
      ],
      "text/plain": [
       "    PLR_ID                                           geometry\n",
       "0  8401245  POLYGON ((397994.196 5806511.717, 397993.956 5...\n",
       "1  8401244  POLYGON ((398223.600 5807886.460, 398227.359 5...\n",
       "2  8401246  POLYGON ((397747.159 5808365.587, 397773.792 5...\n",
       "3  8401243  POLYGON ((397023.730 5809326.070, 397109.311 5...\n",
       "4  8401242  POLYGON ((397023.730 5809326.070, 397041.045 5..."
      ]
     },
     "execution_count": 59,
     "metadata": {},
     "output_type": "execute_result"
    }
   ],
   "source": [
    "#in order to merge the two dfs into a new one, I need to drop the first zero of gdf_lor.PLR_ID so it can match\n",
    "gdf_lor['PLR_ID'] = gdf_lor['PLR_ID'].str.lstrip('0')\n",
    "gdf_lor.head()"
   ]
  },
  {
   "cell_type": "code",
   "execution_count": 60,
   "id": "9a73e89d",
   "metadata": {},
   "outputs": [
    {
     "data": {
      "text/html": [
       "<div>\n",
       "<style scoped>\n",
       "    .dataframe tbody tr th:only-of-type {\n",
       "        vertical-align: middle;\n",
       "    }\n",
       "\n",
       "    .dataframe tbody tr th {\n",
       "        vertical-align: top;\n",
       "    }\n",
       "\n",
       "    .dataframe thead th {\n",
       "        text-align: right;\n",
       "    }\n",
       "</style>\n",
       "<table border=\"1\" class=\"dataframe\">\n",
       "  <thead>\n",
       "    <tr style=\"text-align: right;\">\n",
       "      <th></th>\n",
       "      <th>PLR_ID</th>\n",
       "      <th>geometry</th>\n",
       "      <th>PLR_Name</th>\n",
       "    </tr>\n",
       "  </thead>\n",
       "  <tbody>\n",
       "    <tr>\n",
       "      <th>0</th>\n",
       "      <td>8401245</td>\n",
       "      <td>POLYGON ((397994.196 5806511.717, 397993.956 5...</td>\n",
       "      <td>Frauenviertel</td>\n",
       "    </tr>\n",
       "    <tr>\n",
       "      <th>1</th>\n",
       "      <td>8401244</td>\n",
       "      <td>POLYGON ((398223.600 5807886.460, 398227.359 5...</td>\n",
       "      <td>Waßmannsdorfer Chaussee</td>\n",
       "    </tr>\n",
       "    <tr>\n",
       "      <th>2</th>\n",
       "      <td>8401246</td>\n",
       "      <td>POLYGON ((397747.159 5808365.587, 397773.792 5...</td>\n",
       "      <td>Waltersdorfer Chaussee Ost</td>\n",
       "    </tr>\n",
       "    <tr>\n",
       "      <th>3</th>\n",
       "      <td>8401243</td>\n",
       "      <td>POLYGON ((397023.730 5809326.070, 397109.311 5...</td>\n",
       "      <td>Alt-Rudow</td>\n",
       "    </tr>\n",
       "    <tr>\n",
       "      <th>4</th>\n",
       "      <td>8401242</td>\n",
       "      <td>POLYGON ((397023.730 5809326.070, 397041.045 5...</td>\n",
       "      <td>Zittauer Straße</td>\n",
       "    </tr>\n",
       "  </tbody>\n",
       "</table>\n",
       "</div>"
      ],
      "text/plain": [
       "    PLR_ID                                           geometry  \\\n",
       "0  8401245  POLYGON ((397994.196 5806511.717, 397993.956 5...   \n",
       "1  8401244  POLYGON ((398223.600 5807886.460, 398227.359 5...   \n",
       "2  8401246  POLYGON ((397747.159 5808365.587, 397773.792 5...   \n",
       "3  8401243  POLYGON ((397023.730 5809326.070, 397109.311 5...   \n",
       "4  8401242  POLYGON ((397023.730 5809326.070, 397041.045 5...   \n",
       "\n",
       "                     PLR_Name  \n",
       "0               Frauenviertel  \n",
       "1     Waßmannsdorfer Chaussee  \n",
       "2  Waltersdorfer Chaussee Ost  \n",
       "3                   Alt-Rudow  \n",
       "4             Zittauer Straße  "
      ]
     },
     "execution_count": 60,
     "metadata": {},
     "output_type": "execute_result"
    }
   ],
   "source": [
    "#we can now merge\n",
    "lor_address = gdf_lor.merge(address_df, on='PLR_ID', how='inner')\n",
    "lor_address.head()"
   ]
  },
  {
   "cell_type": "code",
   "execution_count": 63,
   "id": "b6f3fef4",
   "metadata": {},
   "outputs": [
    {
     "name": "stdout",
     "output_type": "stream",
     "text": [
      "<class 'geopandas.geodataframe.GeoDataFrame'>\n",
      "Int64Index: 542 entries, 0 to 541\n",
      "Data columns (total 3 columns):\n",
      " #   Column    Non-Null Count  Dtype   \n",
      "---  ------    --------------  -----   \n",
      " 0   lor       542 non-null    object  \n",
      " 1   geometry  542 non-null    geometry\n",
      " 2   address   542 non-null    object  \n",
      "dtypes: geometry(1), object(2)\n",
      "memory usage: 16.9+ KB\n"
     ]
    }
   ],
   "source": [
    "#renaming certain columns for better comprehension and further merging\n",
    "lor_address.rename(columns={'PLR_ID': 'lor', 'PLR_Name': 'address'}, inplace=True)\n",
    "lor_address.info()"
   ]
  },
  {
   "cell_type": "code",
   "execution_count": 64,
   "id": "d3f82040",
   "metadata": {},
   "outputs": [
    {
     "name": "stdout",
     "output_type": "stream",
     "text": [
      "<class 'pandas.core.series.Series'>\n",
      "Int64Index: 39137 entries, 0 to 39406\n",
      "Series name: lor\n",
      "Non-Null Count  Dtype\n",
      "--------------  -----\n",
      "39137 non-null  int64\n",
      "dtypes: int64(1)\n",
      "memory usage: 611.5 KB\n"
     ]
    }
   ],
   "source": [
    "#Merging the adress info into the main df. First, let's check the dtype of the main df\n",
    "thefts_df_dedup.lor.info()"
   ]
  },
  {
   "cell_type": "markdown",
   "id": "00b321d1",
   "metadata": {},
   "source": [
    "Here I notice that the column lor in the main dataframe is not the same as the column lor in the lor_address. Therefore, I need to change the dtype"
   ]
  },
  {
   "cell_type": "code",
   "execution_count": 65,
   "id": "a9c88d61",
   "metadata": {},
   "outputs": [],
   "source": [
    "thefts_df_dedup['lor'] = thefts_df_dedup['lor'].astype(str)"
   ]
  },
  {
   "cell_type": "markdown",
   "id": "fd355bba",
   "metadata": {},
   "source": [
    "Now let's merge them"
   ]
  },
  {
   "cell_type": "code",
   "execution_count": 66,
   "id": "10a27687",
   "metadata": {},
   "outputs": [],
   "source": [
    "thefts_merged = thefts_df_dedup.merge(lor_address, on='lor', how='outer')"
   ]
  },
  {
   "cell_type": "code",
   "execution_count": 67,
   "id": "03e70f38",
   "metadata": {},
   "outputs": [
    {
     "data": {
      "text/html": [
       "<div>\n",
       "<style scoped>\n",
       "    .dataframe tbody tr th:only-of-type {\n",
       "        vertical-align: middle;\n",
       "    }\n",
       "\n",
       "    .dataframe tbody tr th {\n",
       "        vertical-align: top;\n",
       "    }\n",
       "\n",
       "    .dataframe thead th {\n",
       "        text-align: right;\n",
       "    }\n",
       "</style>\n",
       "<table border=\"1\" class=\"dataframe\">\n",
       "  <thead>\n",
       "    <tr style=\"text-align: right;\">\n",
       "      <th></th>\n",
       "      <th>tatzeit_anfang_datum</th>\n",
       "      <th>tatzeit_anfang_stunde</th>\n",
       "      <th>tatzeit_ende_datum</th>\n",
       "      <th>tatzeit_ende_stunde</th>\n",
       "      <th>lor</th>\n",
       "      <th>schadenshoehe</th>\n",
       "      <th>versuch</th>\n",
       "      <th>art_des_fahrrads</th>\n",
       "      <th>delikt</th>\n",
       "      <th>geometry</th>\n",
       "      <th>address</th>\n",
       "    </tr>\n",
       "  </thead>\n",
       "  <tbody>\n",
       "    <tr>\n",
       "      <th>0</th>\n",
       "      <td>2020-09-10</td>\n",
       "      <td>10.0</td>\n",
       "      <td>2020-09-10</td>\n",
       "      <td>12.0</td>\n",
       "      <td>3400723</td>\n",
       "      <td>706.0</td>\n",
       "      <td>Nein</td>\n",
       "      <td>Damenfahrrad</td>\n",
       "      <td>Fahrraddiebstahl</td>\n",
       "      <td>POLYGON ((392026.298 5825018.011, 392023.101 5...</td>\n",
       "      <td>Garbátyplatz</td>\n",
       "    </tr>\n",
       "    <tr>\n",
       "      <th>1</th>\n",
       "      <td>2020-10-03</td>\n",
       "      <td>14.0</td>\n",
       "      <td>2020-10-03</td>\n",
       "      <td>19.0</td>\n",
       "      <td>3400723</td>\n",
       "      <td>399.0</td>\n",
       "      <td>Nein</td>\n",
       "      <td>Fahrrad</td>\n",
       "      <td>Fahrraddiebstahl</td>\n",
       "      <td>POLYGON ((392026.298 5825018.011, 392023.101 5...</td>\n",
       "      <td>Garbátyplatz</td>\n",
       "    </tr>\n",
       "    <tr>\n",
       "      <th>2</th>\n",
       "      <td>2021-08-09</td>\n",
       "      <td>8.0</td>\n",
       "      <td>2021-08-09</td>\n",
       "      <td>11.0</td>\n",
       "      <td>3400723</td>\n",
       "      <td>390.0</td>\n",
       "      <td>Nein</td>\n",
       "      <td>Damenfahrrad</td>\n",
       "      <td>Fahrraddiebstahl</td>\n",
       "      <td>POLYGON ((392026.298 5825018.011, 392023.101 5...</td>\n",
       "      <td>Garbátyplatz</td>\n",
       "    </tr>\n",
       "    <tr>\n",
       "      <th>3</th>\n",
       "      <td>2020-10-05</td>\n",
       "      <td>13.0</td>\n",
       "      <td>2020-10-05</td>\n",
       "      <td>13.0</td>\n",
       "      <td>3400723</td>\n",
       "      <td>1289.0</td>\n",
       "      <td>Nein</td>\n",
       "      <td>Damenfahrrad</td>\n",
       "      <td>Fahrraddiebstahl</td>\n",
       "      <td>POLYGON ((392026.298 5825018.011, 392023.101 5...</td>\n",
       "      <td>Garbátyplatz</td>\n",
       "    </tr>\n",
       "    <tr>\n",
       "      <th>4</th>\n",
       "      <td>2021-08-16</td>\n",
       "      <td>12.0</td>\n",
       "      <td>2021-08-16</td>\n",
       "      <td>13.0</td>\n",
       "      <td>3400723</td>\n",
       "      <td>250.0</td>\n",
       "      <td>Nein</td>\n",
       "      <td>Herrenfahrrad</td>\n",
       "      <td>Fahrraddiebstahl</td>\n",
       "      <td>POLYGON ((392026.298 5825018.011, 392023.101 5...</td>\n",
       "      <td>Garbátyplatz</td>\n",
       "    </tr>\n",
       "  </tbody>\n",
       "</table>\n",
       "</div>"
      ],
      "text/plain": [
       "  tatzeit_anfang_datum  tatzeit_anfang_stunde tatzeit_ende_datum  \\\n",
       "0           2020-09-10                   10.0         2020-09-10   \n",
       "1           2020-10-03                   14.0         2020-10-03   \n",
       "2           2021-08-09                    8.0         2021-08-09   \n",
       "3           2020-10-05                   13.0         2020-10-05   \n",
       "4           2021-08-16                   12.0         2021-08-16   \n",
       "\n",
       "   tatzeit_ende_stunde      lor  schadenshoehe versuch art_des_fahrrads  \\\n",
       "0                 12.0  3400723          706.0    Nein     Damenfahrrad   \n",
       "1                 19.0  3400723          399.0    Nein          Fahrrad   \n",
       "2                 11.0  3400723          390.0    Nein     Damenfahrrad   \n",
       "3                 13.0  3400723         1289.0    Nein     Damenfahrrad   \n",
       "4                 13.0  3400723          250.0    Nein    Herrenfahrrad   \n",
       "\n",
       "             delikt                                           geometry  \\\n",
       "0  Fahrraddiebstahl  POLYGON ((392026.298 5825018.011, 392023.101 5...   \n",
       "1  Fahrraddiebstahl  POLYGON ((392026.298 5825018.011, 392023.101 5...   \n",
       "2  Fahrraddiebstahl  POLYGON ((392026.298 5825018.011, 392023.101 5...   \n",
       "3  Fahrraddiebstahl  POLYGON ((392026.298 5825018.011, 392023.101 5...   \n",
       "4  Fahrraddiebstahl  POLYGON ((392026.298 5825018.011, 392023.101 5...   \n",
       "\n",
       "        address  \n",
       "0  Garbátyplatz  \n",
       "1  Garbátyplatz  \n",
       "2  Garbátyplatz  \n",
       "3  Garbátyplatz  \n",
       "4  Garbátyplatz  "
      ]
     },
     "execution_count": 67,
     "metadata": {},
     "output_type": "execute_result"
    }
   ],
   "source": [
    "thefts_merged.head()"
   ]
  },
  {
   "cell_type": "markdown",
   "id": "43aed91e",
   "metadata": {},
   "source": [
    "Since I am interested in in the areas with the highest number of thefts, I will create a new df"
   ]
  },
  {
   "cell_type": "code",
   "execution_count": 69,
   "id": "0981f396",
   "metadata": {},
   "outputs": [],
   "source": [
    "#new df with the count of thefts per lor\n",
    "theft_lor = thefts_merged.groupby('lor').size().reset_index(name='count')\n",
    "#new df were only the lor codes with more than 100 thefts are kept\n",
    "theft_more_100 = theft_lor[theft_lor['count'] > 100]\n",
    "#new df with the map info (latitude and longitude) \n",
    "thefts_merged = lor_address.merge(theft_more_100, on='lor', how='inner')"
   ]
  },
  {
   "cell_type": "code",
   "execution_count": 70,
   "id": "f3a1d6ff",
   "metadata": {},
   "outputs": [
    {
     "data": {
      "text/html": [
       "<div>\n",
       "<style scoped>\n",
       "    .dataframe tbody tr th:only-of-type {\n",
       "        vertical-align: middle;\n",
       "    }\n",
       "\n",
       "    .dataframe tbody tr th {\n",
       "        vertical-align: top;\n",
       "    }\n",
       "\n",
       "    .dataframe thead th {\n",
       "        text-align: right;\n",
       "    }\n",
       "</style>\n",
       "<table border=\"1\" class=\"dataframe\">\n",
       "  <thead>\n",
       "    <tr style=\"text-align: right;\">\n",
       "      <th></th>\n",
       "      <th>lor</th>\n",
       "      <th>count</th>\n",
       "    </tr>\n",
       "  </thead>\n",
       "  <tbody>\n",
       "    <tr>\n",
       "      <th>0</th>\n",
       "      <td>10100101</td>\n",
       "      <td>38</td>\n",
       "    </tr>\n",
       "    <tr>\n",
       "      <th>1</th>\n",
       "      <td>10100102</td>\n",
       "      <td>12</td>\n",
       "    </tr>\n",
       "    <tr>\n",
       "      <th>2</th>\n",
       "      <td>10100103</td>\n",
       "      <td>22</td>\n",
       "    </tr>\n",
       "    <tr>\n",
       "      <th>3</th>\n",
       "      <td>10100104</td>\n",
       "      <td>24</td>\n",
       "    </tr>\n",
       "    <tr>\n",
       "      <th>4</th>\n",
       "      <td>10100205</td>\n",
       "      <td>10</td>\n",
       "    </tr>\n",
       "  </tbody>\n",
       "</table>\n",
       "</div>"
      ],
      "text/plain": [
       "        lor  count\n",
       "0  10100101     38\n",
       "1  10100102     12\n",
       "2  10100103     22\n",
       "3  10100104     24\n",
       "4  10100205     10"
      ]
     },
     "execution_count": 70,
     "metadata": {},
     "output_type": "execute_result"
    }
   ],
   "source": [
    "#this df keeps the total number of thefts per lor code\n",
    "theft_lor.head()"
   ]
  },
  {
   "cell_type": "code",
   "execution_count": 71,
   "id": "b3b763b5",
   "metadata": {},
   "outputs": [
    {
     "data": {
      "text/html": [
       "<div>\n",
       "<style scoped>\n",
       "    .dataframe tbody tr th:only-of-type {\n",
       "        vertical-align: middle;\n",
       "    }\n",
       "\n",
       "    .dataframe tbody tr th {\n",
       "        vertical-align: top;\n",
       "    }\n",
       "\n",
       "    .dataframe thead th {\n",
       "        text-align: right;\n",
       "    }\n",
       "</style>\n",
       "<table border=\"1\" class=\"dataframe\">\n",
       "  <thead>\n",
       "    <tr style=\"text-align: right;\">\n",
       "      <th></th>\n",
       "      <th>lor</th>\n",
       "      <th>count</th>\n",
       "    </tr>\n",
       "  </thead>\n",
       "  <tbody>\n",
       "    <tr>\n",
       "      <th>42</th>\n",
       "      <td>1100102</td>\n",
       "      <td>148</td>\n",
       "    </tr>\n",
       "    <tr>\n",
       "      <th>43</th>\n",
       "      <td>1100103</td>\n",
       "      <td>117</td>\n",
       "    </tr>\n",
       "    <tr>\n",
       "      <th>44</th>\n",
       "      <td>1100104</td>\n",
       "      <td>102</td>\n",
       "    </tr>\n",
       "    <tr>\n",
       "      <th>46</th>\n",
       "      <td>1100206</td>\n",
       "      <td>187</td>\n",
       "    </tr>\n",
       "    <tr>\n",
       "      <th>47</th>\n",
       "      <td>1100207</td>\n",
       "      <td>153</td>\n",
       "    </tr>\n",
       "  </tbody>\n",
       "</table>\n",
       "</div>"
      ],
      "text/plain": [
       "        lor  count\n",
       "42  1100102    148\n",
       "43  1100103    117\n",
       "44  1100104    102\n",
       "46  1100206    187\n",
       "47  1100207    153"
      ]
     },
     "execution_count": 71,
     "metadata": {},
     "output_type": "execute_result"
    }
   ],
   "source": [
    "#this df only has the lor codes with more than 100 thefts\n",
    "theft_more_100.head()"
   ]
  },
  {
   "cell_type": "code",
   "execution_count": 72,
   "id": "22cf161e",
   "metadata": {},
   "outputs": [
    {
     "data": {
      "text/html": [
       "<div>\n",
       "<style scoped>\n",
       "    .dataframe tbody tr th:only-of-type {\n",
       "        vertical-align: middle;\n",
       "    }\n",
       "\n",
       "    .dataframe tbody tr th {\n",
       "        vertical-align: top;\n",
       "    }\n",
       "\n",
       "    .dataframe thead th {\n",
       "        text-align: right;\n",
       "    }\n",
       "</style>\n",
       "<table border=\"1\" class=\"dataframe\">\n",
       "  <thead>\n",
       "    <tr style=\"text-align: right;\">\n",
       "      <th></th>\n",
       "      <th>lor</th>\n",
       "      <th>geometry</th>\n",
       "      <th>address</th>\n",
       "      <th>count</th>\n",
       "    </tr>\n",
       "  </thead>\n",
       "  <tbody>\n",
       "    <tr>\n",
       "      <th>0</th>\n",
       "      <td>8100418</td>\n",
       "      <td>POLYGON ((395167.565 5814848.427, 395163.220 5...</td>\n",
       "      <td>Hertzbergplatz</td>\n",
       "      <td>132</td>\n",
       "    </tr>\n",
       "    <tr>\n",
       "      <th>1</th>\n",
       "      <td>8100416</td>\n",
       "      <td>POLYGON ((394642.027 5815057.224, 394642.183 5...</td>\n",
       "      <td>Alt-Rixdorf</td>\n",
       "      <td>107</td>\n",
       "    </tr>\n",
       "    <tr>\n",
       "      <th>2</th>\n",
       "      <td>8100417</td>\n",
       "      <td>POLYGON ((394642.027 5815057.224, 394657.836 5...</td>\n",
       "      <td>Braunschweiger Straße</td>\n",
       "      <td>171</td>\n",
       "    </tr>\n",
       "    <tr>\n",
       "      <th>3</th>\n",
       "      <td>8100415</td>\n",
       "      <td>POLYGON ((394642.027 5815057.224, 394633.665 5...</td>\n",
       "      <td>Ganghoferstraße</td>\n",
       "      <td>113</td>\n",
       "    </tr>\n",
       "    <tr>\n",
       "      <th>4</th>\n",
       "      <td>8100208</td>\n",
       "      <td>POLYGON ((394143.689 5814593.516, 394148.472 5...</td>\n",
       "      <td>Körnerpark</td>\n",
       "      <td>148</td>\n",
       "    </tr>\n",
       "  </tbody>\n",
       "</table>\n",
       "</div>"
      ],
      "text/plain": [
       "       lor                                           geometry  \\\n",
       "0  8100418  POLYGON ((395167.565 5814848.427, 395163.220 5...   \n",
       "1  8100416  POLYGON ((394642.027 5815057.224, 394642.183 5...   \n",
       "2  8100417  POLYGON ((394642.027 5815057.224, 394657.836 5...   \n",
       "3  8100415  POLYGON ((394642.027 5815057.224, 394633.665 5...   \n",
       "4  8100208  POLYGON ((394143.689 5814593.516, 394148.472 5...   \n",
       "\n",
       "                 address  count  \n",
       "0         Hertzbergplatz    132  \n",
       "1            Alt-Rixdorf    107  \n",
       "2  Braunschweiger Straße    171  \n",
       "3        Ganghoferstraße    113  \n",
       "4             Körnerpark    148  "
      ]
     },
     "execution_count": 72,
     "metadata": {},
     "output_type": "execute_result"
    }
   ],
   "source": [
    "#this df has the lor code + latitude and longitude of location with more than 100 thefts + address\n",
    "thefts_merged.head()"
   ]
  },
  {
   "cell_type": "markdown",
   "id": "22fa7e46",
   "metadata": {},
   "source": [
    "Let's plot the map on the locations in Berlin with the highest number of thefts"
   ]
  },
  {
   "cell_type": "code",
   "execution_count": 73,
   "id": "9f128596",
   "metadata": {},
   "outputs": [
    {
     "data": {
      "image/png": "[encoded data removed]",
      "text/plain": [
       "<Figure size 2500x1000 with 2 Axes>"
      ]
     },
     "metadata": {},
     "output_type": "display_data"
    }
   ],
   "source": [
    "fig, ax = plt.subplots(figsize=(25, 10))\n",
    "thefts_merged.plot(column='count', cmap='Reds', linewidth=3.5, legend=True, ax=ax)\n",
    "plt.title(\"Areas in Berlin with more than 100 bike thefts\", fontsize=25)\n",
    "ax.set_axis_off()\n",
    "plt.show()"
   ]
  },
  {
   "cell_type": "markdown",
   "id": "60b5b4d6",
   "metadata": {},
   "source": [
    "The color red represents the number of thefts per area in Berlin. There is a location that pop out the most, which is the location with the highest number of thefts. Let's discover where is it."
   ]
  },
  {
   "cell_type": "code",
   "execution_count": 74,
   "id": "950a795d",
   "metadata": {},
   "outputs": [
    {
     "data": {
      "text/html": [
       "<div>\n",
       "<style scoped>\n",
       "    .dataframe tbody tr th:only-of-type {\n",
       "        vertical-align: middle;\n",
       "    }\n",
       "\n",
       "    .dataframe tbody tr th {\n",
       "        vertical-align: top;\n",
       "    }\n",
       "\n",
       "    .dataframe thead th {\n",
       "        text-align: right;\n",
       "    }\n",
       "</style>\n",
       "<table border=\"1\" class=\"dataframe\">\n",
       "  <thead>\n",
       "    <tr style=\"text-align: right;\">\n",
       "      <th></th>\n",
       "      <th>lor</th>\n",
       "      <th>geometry</th>\n",
       "      <th>address</th>\n",
       "      <th>count</th>\n",
       "    </tr>\n",
       "  </thead>\n",
       "  <tbody>\n",
       "    <tr>\n",
       "      <th>123</th>\n",
       "      <td>9100101</td>\n",
       "      <td>POLYGON ((395303.042 5816192.240, 395282.544 5...</td>\n",
       "      <td>Alt-Treptow</td>\n",
       "      <td>501</td>\n",
       "    </tr>\n",
       "    <tr>\n",
       "      <th>40</th>\n",
       "      <td>2300419</td>\n",
       "      <td>POLYGON ((395006.204 5817501.050, 394964.371 5...</td>\n",
       "      <td>Wrangelkiez</td>\n",
       "      <td>389</td>\n",
       "    </tr>\n",
       "    <tr>\n",
       "      <th>126</th>\n",
       "      <td>2200210</td>\n",
       "      <td>POLYGON ((391720.949 5816634.965, 391719.446 5...</td>\n",
       "      <td>Urbanstraße</td>\n",
       "      <td>296</td>\n",
       "    </tr>\n",
       "    <tr>\n",
       "      <th>121</th>\n",
       "      <td>9200613</td>\n",
       "      <td>POLYGON ((398054.544 5814222.280, 398054.599 5...</td>\n",
       "      <td>Bahnhof Schöneweide</td>\n",
       "      <td>286</td>\n",
       "    </tr>\n",
       "    <tr>\n",
       "      <th>42</th>\n",
       "      <td>2200211</td>\n",
       "      <td>POLYGON ((391782.526 5815929.353, 391772.326 5...</td>\n",
       "      <td>Chamissokiez</td>\n",
       "      <td>275</td>\n",
       "    </tr>\n",
       "  </tbody>\n",
       "</table>\n",
       "</div>"
      ],
      "text/plain": [
       "         lor                                           geometry  \\\n",
       "123  9100101  POLYGON ((395303.042 5816192.240, 395282.544 5...   \n",
       "40   2300419  POLYGON ((395006.204 5817501.050, 394964.371 5...   \n",
       "126  2200210  POLYGON ((391720.949 5816634.965, 391719.446 5...   \n",
       "121  9200613  POLYGON ((398054.544 5814222.280, 398054.599 5...   \n",
       "42   2200211  POLYGON ((391782.526 5815929.353, 391772.326 5...   \n",
       "\n",
       "                 address  count  \n",
       "123          Alt-Treptow    501  \n",
       "40           Wrangelkiez    389  \n",
       "126          Urbanstraße    296  \n",
       "121  Bahnhof Schöneweide    286  \n",
       "42          Chamissokiez    275  "
      ]
     },
     "execution_count": 74,
     "metadata": {},
     "output_type": "execute_result"
    }
   ],
   "source": [
    "thefts_merged.sort_values(by='count', ascending=False).head()"
   ]
  },
  {
   "cell_type": "markdown",
   "id": "b612a91a",
   "metadata": {},
   "source": [
    "9100101 = Alt-Treptow \n",
    "Alt-Treptow had more than 500 thefts between 2020-01-01 and 2021-11-28"
   ]
  },
  {
   "cell_type": "markdown",
   "id": "3ba2110f",
   "metadata": {},
   "source": [
    "Let's plot the map of all the thefts and not only of the locations with more than 100 thefts. For this, let's merge gdf_lor and theft_lor"
   ]
  },
  {
   "cell_type": "code",
   "execution_count": 75,
   "id": "0c0a97a7",
   "metadata": {},
   "outputs": [
    {
     "data": {
      "text/html": [
       "<div>\n",
       "<style scoped>\n",
       "    .dataframe tbody tr th:only-of-type {\n",
       "        vertical-align: middle;\n",
       "    }\n",
       "\n",
       "    .dataframe tbody tr th {\n",
       "        vertical-align: top;\n",
       "    }\n",
       "\n",
       "    .dataframe thead th {\n",
       "        text-align: right;\n",
       "    }\n",
       "</style>\n",
       "<table border=\"1\" class=\"dataframe\">\n",
       "  <thead>\n",
       "    <tr style=\"text-align: right;\">\n",
       "      <th></th>\n",
       "      <th>lor</th>\n",
       "      <th>geometry</th>\n",
       "      <th>address</th>\n",
       "      <th>count</th>\n",
       "    </tr>\n",
       "  </thead>\n",
       "  <tbody>\n",
       "    <tr>\n",
       "      <th>0</th>\n",
       "      <td>8401245</td>\n",
       "      <td>POLYGON ((397994.196 5806511.717, 397993.956 5...</td>\n",
       "      <td>Frauenviertel</td>\n",
       "      <td>10</td>\n",
       "    </tr>\n",
       "    <tr>\n",
       "      <th>1</th>\n",
       "      <td>8401244</td>\n",
       "      <td>POLYGON ((398223.600 5807886.460, 398227.359 5...</td>\n",
       "      <td>Waßmannsdorfer Chaussee</td>\n",
       "      <td>62</td>\n",
       "    </tr>\n",
       "    <tr>\n",
       "      <th>2</th>\n",
       "      <td>8401246</td>\n",
       "      <td>POLYGON ((397747.159 5808365.587, 397773.792 5...</td>\n",
       "      <td>Waltersdorfer Chaussee Ost</td>\n",
       "      <td>15</td>\n",
       "    </tr>\n",
       "    <tr>\n",
       "      <th>3</th>\n",
       "      <td>8401243</td>\n",
       "      <td>POLYGON ((397023.730 5809326.070, 397109.311 5...</td>\n",
       "      <td>Alt-Rudow</td>\n",
       "      <td>37</td>\n",
       "    </tr>\n",
       "    <tr>\n",
       "      <th>4</th>\n",
       "      <td>8401242</td>\n",
       "      <td>POLYGON ((397023.730 5809326.070, 397041.045 5...</td>\n",
       "      <td>Zittauer Straße</td>\n",
       "      <td>15</td>\n",
       "    </tr>\n",
       "  </tbody>\n",
       "</table>\n",
       "</div>"
      ],
      "text/plain": [
       "       lor                                           geometry  \\\n",
       "0  8401245  POLYGON ((397994.196 5806511.717, 397993.956 5...   \n",
       "1  8401244  POLYGON ((398223.600 5807886.460, 398227.359 5...   \n",
       "2  8401246  POLYGON ((397747.159 5808365.587, 397773.792 5...   \n",
       "3  8401243  POLYGON ((397023.730 5809326.070, 397109.311 5...   \n",
       "4  8401242  POLYGON ((397023.730 5809326.070, 397041.045 5...   \n",
       "\n",
       "                      address  count  \n",
       "0               Frauenviertel     10  \n",
       "1     Waßmannsdorfer Chaussee     62  \n",
       "2  Waltersdorfer Chaussee Ost     15  \n",
       "3                   Alt-Rudow     37  \n",
       "4             Zittauer Straße     15  "
      ]
     },
     "execution_count": 75,
     "metadata": {},
     "output_type": "execute_result"
    }
   ],
   "source": [
    "all_thefts_merged = lor_address.merge(theft_lor, on='lor', how='inner')\n",
    "all_thefts_merged.head()"
   ]
  },
  {
   "cell_type": "code",
   "execution_count": 76,
   "id": "806d9014",
   "metadata": {},
   "outputs": [
    {
     "data": {
      "image/png": "[encoded data removed]",
      "text/plain": [
       "<Figure size 2500x1000 with 2 Axes>"
      ]
     },
     "metadata": {},
     "output_type": "display_data"
    }
   ],
   "source": [
    "fig, ax = plt.subplots(figsize=(25, 10))\n",
    "all_thefts_merged.plot(column='count', cmap='Reds', linewidth=3.5, legend=True, ax=ax)\n",
    "plt.title(\"Bike Thefts in all Berlin\", fontsize=25)\n",
    "ax.set_axis_off()\n",
    "plt.show()"
   ]
  },
  {
   "cell_type": "markdown",
   "id": "c8374404",
   "metadata": {},
   "source": [
    "Let's get the top 5"
   ]
  },
  {
   "cell_type": "code",
   "execution_count": 82,
   "id": "b4512f85",
   "metadata": {},
   "outputs": [
    {
     "data": {
      "text/html": [
       "<div>\n",
       "<style scoped>\n",
       "    .dataframe tbody tr th:only-of-type {\n",
       "        vertical-align: middle;\n",
       "    }\n",
       "\n",
       "    .dataframe tbody tr th {\n",
       "        vertical-align: top;\n",
       "    }\n",
       "\n",
       "    .dataframe thead th {\n",
       "        text-align: right;\n",
       "    }\n",
       "</style>\n",
       "<table border=\"1\" class=\"dataframe\">\n",
       "  <thead>\n",
       "    <tr style=\"text-align: right;\">\n",
       "      <th></th>\n",
       "      <th>lor</th>\n",
       "      <th>geometry</th>\n",
       "      <th>address</th>\n",
       "      <th>count</th>\n",
       "    </tr>\n",
       "  </thead>\n",
       "  <tbody>\n",
       "    <tr>\n",
       "      <th>481</th>\n",
       "      <td>9100101</td>\n",
       "      <td>POLYGON ((395303.042 5816192.240, 395282.544 5...</td>\n",
       "      <td>Alt-Treptow</td>\n",
       "      <td>501</td>\n",
       "    </tr>\n",
       "    <tr>\n",
       "      <th>142</th>\n",
       "      <td>2300419</td>\n",
       "      <td>POLYGON ((395006.204 5817501.050, 394964.371 5...</td>\n",
       "      <td>Wrangelkiez</td>\n",
       "      <td>389</td>\n",
       "    </tr>\n",
       "    <tr>\n",
       "      <th>485</th>\n",
       "      <td>2200210</td>\n",
       "      <td>POLYGON ((391720.949 5816634.965, 391719.446 5...</td>\n",
       "      <td>Urbanstraße</td>\n",
       "      <td>296</td>\n",
       "    </tr>\n",
       "    <tr>\n",
       "      <th>475</th>\n",
       "      <td>9200613</td>\n",
       "      <td>POLYGON ((398054.544 5814222.280, 398054.599 5...</td>\n",
       "      <td>Bahnhof Schöneweide</td>\n",
       "      <td>286</td>\n",
       "    </tr>\n",
       "    <tr>\n",
       "      <th>144</th>\n",
       "      <td>2200211</td>\n",
       "      <td>POLYGON ((391782.526 5815929.353, 391772.326 5...</td>\n",
       "      <td>Chamissokiez</td>\n",
       "      <td>275</td>\n",
       "    </tr>\n",
       "    <tr>\n",
       "      <th>...</th>\n",
       "      <td>...</td>\n",
       "      <td>...</td>\n",
       "      <td>...</td>\n",
       "      <td>...</td>\n",
       "    </tr>\n",
       "    <tr>\n",
       "      <th>191</th>\n",
       "      <td>4400725</td>\n",
       "      <td>POLYGON ((382090.598 5816730.652, 382077.331 5...</td>\n",
       "      <td>Güterbahnhof Grunewald</td>\n",
       "      <td>2</td>\n",
       "    </tr>\n",
       "    <tr>\n",
       "      <th>352</th>\n",
       "      <td>3300515</td>\n",
       "      <td>POLYGON ((394646.862 5826865.537, 394654.029 5...</td>\n",
       "      <td>Blankenburger Süden</td>\n",
       "      <td>1</td>\n",
       "    </tr>\n",
       "    <tr>\n",
       "      <th>199</th>\n",
       "      <td>6200418</td>\n",
       "      <td>POLYGON ((386200.054 5807473.687, 386199.629 5...</td>\n",
       "      <td>Landweg</td>\n",
       "      <td>1</td>\n",
       "    </tr>\n",
       "    <tr>\n",
       "      <th>251</th>\n",
       "      <td>5200419</td>\n",
       "      <td>POLYGON ((373983.874 5822490.334, 373989.452 5...</td>\n",
       "      <td>Am Heideberg</td>\n",
       "      <td>1</td>\n",
       "    </tr>\n",
       "    <tr>\n",
       "      <th>262</th>\n",
       "      <td>5300838</td>\n",
       "      <td>POLYGON ((381196.880 5823388.124, 381184.034 5...</td>\n",
       "      <td>Gartenfeld</td>\n",
       "      <td>1</td>\n",
       "    </tr>\n",
       "  </tbody>\n",
       "</table>\n",
       "<p>542 rows × 4 columns</p>\n",
       "</div>"
      ],
      "text/plain": [
       "         lor                                           geometry  \\\n",
       "481  9100101  POLYGON ((395303.042 5816192.240, 395282.544 5...   \n",
       "142  2300419  POLYGON ((395006.204 5817501.050, 394964.371 5...   \n",
       "485  2200210  POLYGON ((391720.949 5816634.965, 391719.446 5...   \n",
       "475  9200613  POLYGON ((398054.544 5814222.280, 398054.599 5...   \n",
       "144  2200211  POLYGON ((391782.526 5815929.353, 391772.326 5...   \n",
       "..       ...                                                ...   \n",
       "191  4400725  POLYGON ((382090.598 5816730.652, 382077.331 5...   \n",
       "352  3300515  POLYGON ((394646.862 5826865.537, 394654.029 5...   \n",
       "199  6200418  POLYGON ((386200.054 5807473.687, 386199.629 5...   \n",
       "251  5200419  POLYGON ((373983.874 5822490.334, 373989.452 5...   \n",
       "262  5300838  POLYGON ((381196.880 5823388.124, 381184.034 5...   \n",
       "\n",
       "                    address  count  \n",
       "481             Alt-Treptow    501  \n",
       "142             Wrangelkiez    389  \n",
       "485             Urbanstraße    296  \n",
       "475     Bahnhof Schöneweide    286  \n",
       "144            Chamissokiez    275  \n",
       "..                      ...    ...  \n",
       "191  Güterbahnhof Grunewald      2  \n",
       "352     Blankenburger Süden      1  \n",
       "199                 Landweg      1  \n",
       "251            Am Heideberg      1  \n",
       "262              Gartenfeld      1  \n",
       "\n",
       "[542 rows x 4 columns]"
      ]
     },
     "execution_count": 82,
     "metadata": {},
     "output_type": "execute_result"
    }
   ],
   "source": [
    "all_thefts_merged.sort_values(by='count', ascending=False)"
   ]
  },
  {
   "cell_type": "markdown",
   "id": "755c30c4",
   "metadata": {},
   "source": [
    "Alt-Treptow, Wrangelkiez, Urbanstraße, Bahnhof Schöneweide and Chamissokiez."
   ]
  },
  {
   "cell_type": "code",
   "execution_count": 85,
   "id": "ae91c4a0",
   "metadata": {},
   "outputs": [
    {
     "data": {
      "text/html": [
       "<div>\n",
       "<style scoped>\n",
       "    .dataframe tbody tr th:only-of-type {\n",
       "        vertical-align: middle;\n",
       "    }\n",
       "\n",
       "    .dataframe tbody tr th {\n",
       "        vertical-align: top;\n",
       "    }\n",
       "\n",
       "    .dataframe thead th {\n",
       "        text-align: right;\n",
       "    }\n",
       "</style>\n",
       "<table border=\"1\" class=\"dataframe\">\n",
       "  <thead>\n",
       "    <tr style=\"text-align: right;\">\n",
       "      <th></th>\n",
       "      <th>tatzeit_anfang_datum</th>\n",
       "      <th>tatzeit_anfang_stunde</th>\n",
       "      <th>tatzeit_ende_datum</th>\n",
       "      <th>tatzeit_ende_stunde</th>\n",
       "      <th>lor</th>\n",
       "      <th>schadenshoehe</th>\n",
       "      <th>versuch</th>\n",
       "      <th>art_des_fahrrads</th>\n",
       "      <th>delikt</th>\n",
       "      <th>geometry</th>\n",
       "      <th>address</th>\n",
       "    </tr>\n",
       "  </thead>\n",
       "  <tbody>\n",
       "    <tr>\n",
       "      <th>0</th>\n",
       "      <td>2020-09-10</td>\n",
       "      <td>10.0</td>\n",
       "      <td>2020-09-10</td>\n",
       "      <td>12.0</td>\n",
       "      <td>3400723</td>\n",
       "      <td>706.0</td>\n",
       "      <td>Nein</td>\n",
       "      <td>Damenfahrrad</td>\n",
       "      <td>Fahrraddiebstahl</td>\n",
       "      <td>POLYGON ((392026.298 5825018.011, 392023.101 5...</td>\n",
       "      <td>Garbátyplatz</td>\n",
       "    </tr>\n",
       "    <tr>\n",
       "      <th>1</th>\n",
       "      <td>2020-10-03</td>\n",
       "      <td>14.0</td>\n",
       "      <td>2020-10-03</td>\n",
       "      <td>19.0</td>\n",
       "      <td>3400723</td>\n",
       "      <td>399.0</td>\n",
       "      <td>Nein</td>\n",
       "      <td>Fahrrad</td>\n",
       "      <td>Fahrraddiebstahl</td>\n",
       "      <td>POLYGON ((392026.298 5825018.011, 392023.101 5...</td>\n",
       "      <td>Garbátyplatz</td>\n",
       "    </tr>\n",
       "    <tr>\n",
       "      <th>2</th>\n",
       "      <td>2021-08-09</td>\n",
       "      <td>8.0</td>\n",
       "      <td>2021-08-09</td>\n",
       "      <td>11.0</td>\n",
       "      <td>3400723</td>\n",
       "      <td>390.0</td>\n",
       "      <td>Nein</td>\n",
       "      <td>Damenfahrrad</td>\n",
       "      <td>Fahrraddiebstahl</td>\n",
       "      <td>POLYGON ((392026.298 5825018.011, 392023.101 5...</td>\n",
       "      <td>Garbátyplatz</td>\n",
       "    </tr>\n",
       "    <tr>\n",
       "      <th>3</th>\n",
       "      <td>2020-10-05</td>\n",
       "      <td>13.0</td>\n",
       "      <td>2020-10-05</td>\n",
       "      <td>13.0</td>\n",
       "      <td>3400723</td>\n",
       "      <td>1289.0</td>\n",
       "      <td>Nein</td>\n",
       "      <td>Damenfahrrad</td>\n",
       "      <td>Fahrraddiebstahl</td>\n",
       "      <td>POLYGON ((392026.298 5825018.011, 392023.101 5...</td>\n",
       "      <td>Garbátyplatz</td>\n",
       "    </tr>\n",
       "    <tr>\n",
       "      <th>4</th>\n",
       "      <td>2021-08-16</td>\n",
       "      <td>12.0</td>\n",
       "      <td>2021-08-16</td>\n",
       "      <td>13.0</td>\n",
       "      <td>3400723</td>\n",
       "      <td>250.0</td>\n",
       "      <td>Nein</td>\n",
       "      <td>Herrenfahrrad</td>\n",
       "      <td>Fahrraddiebstahl</td>\n",
       "      <td>POLYGON ((392026.298 5825018.011, 392023.101 5...</td>\n",
       "      <td>Garbátyplatz</td>\n",
       "    </tr>\n",
       "  </tbody>\n",
       "</table>\n",
       "</div>"
      ],
      "text/plain": [
       "  tatzeit_anfang_datum  tatzeit_anfang_stunde tatzeit_ende_datum  \\\n",
       "0           2020-09-10                   10.0         2020-09-10   \n",
       "1           2020-10-03                   14.0         2020-10-03   \n",
       "2           2021-08-09                    8.0         2021-08-09   \n",
       "3           2020-10-05                   13.0         2020-10-05   \n",
       "4           2021-08-16                   12.0         2021-08-16   \n",
       "\n",
       "   tatzeit_ende_stunde      lor  schadenshoehe versuch art_des_fahrrads  \\\n",
       "0                 12.0  3400723          706.0    Nein     Damenfahrrad   \n",
       "1                 19.0  3400723          399.0    Nein          Fahrrad   \n",
       "2                 11.0  3400723          390.0    Nein     Damenfahrrad   \n",
       "3                 13.0  3400723         1289.0    Nein     Damenfahrrad   \n",
       "4                 13.0  3400723          250.0    Nein    Herrenfahrrad   \n",
       "\n",
       "             delikt                                           geometry  \\\n",
       "0  Fahrraddiebstahl  POLYGON ((392026.298 5825018.011, 392023.101 5...   \n",
       "1  Fahrraddiebstahl  POLYGON ((392026.298 5825018.011, 392023.101 5...   \n",
       "2  Fahrraddiebstahl  POLYGON ((392026.298 5825018.011, 392023.101 5...   \n",
       "3  Fahrraddiebstahl  POLYGON ((392026.298 5825018.011, 392023.101 5...   \n",
       "4  Fahrraddiebstahl  POLYGON ((392026.298 5825018.011, 392023.101 5...   \n",
       "\n",
       "        address  \n",
       "0  Garbátyplatz  \n",
       "1  Garbátyplatz  \n",
       "2  Garbátyplatz  \n",
       "3  Garbátyplatz  \n",
       "4  Garbátyplatz  "
      ]
     },
     "execution_count": 85,
     "metadata": {},
     "output_type": "execute_result"
    }
   ],
   "source": [
    "#Let's create a df with all the data\n",
    "all_thefts_berlin = thefts_df_dedup.merge(lor_address, on='lor', how='outer')\n",
    "all_thefts_berlin.head()"
   ]
  }
 ],
 "metadata": {
  "kernelspec": {
   "display_name": "nf_geo2",
   "language": "python",
   "name": "python3"
  },
  "language_info": {
   "codemirror_mode": {
    "name": "ipython",
    "version": 3
   },
   "file_extension": ".py",
   "mimetype": "text/x-python",
   "name": "python",
   "nbconvert_exporter": "python",
   "pygments_lexer": "ipython3",
   "version": "3.9.19"
  }
 },
 "nbformat": 4,
 "nbformat_minor": 5
}
