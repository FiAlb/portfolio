{
 "cells": [
  {
   "cell_type": "markdown",
   "metadata": {},
   "source": [
    "# Dictionaries and For Loops"
   ]
  },
  {
   "cell_type": "markdown",
   "metadata": {},
   "source": [
    "# Dictionaries"
   ]
  },
  {
   "cell_type": "markdown",
   "metadata": {},
   "source": [
    "## Create dictionary"
   ]
  },
  {
   "cell_type": "code",
   "execution_count": 1,
   "metadata": {},
   "outputs": [
    {
     "name": "stdout",
     "output_type": "stream",
     "text": [
      "{'Red Lobster': 'Seafood', 'Burger King': 'Fast Food', 'Safeway': 'Grocery Store'}\n"
     ]
    }
   ],
   "source": [
    "#1. Create a dictionary\n",
    "restaurant_types = {'Red Lobster': 'Seafood', \n",
    "                    'Burger King': 'Fast Food',\n",
    "                    'Safeway': 'Grocery Store'}\n",
    "print(restaurant_types)"
   ]
  },
  {
   "cell_type": "code",
   "execution_count": 2,
   "metadata": {},
   "outputs": [
    {
     "name": "stdout",
     "output_type": "stream",
     "text": [
      "Fast Food\n"
     ]
    }
   ],
   "source": [
    "#2. Checking the associated value for Burger King\n",
    "print(restaurant_types['Burger King'])"
   ]
  },
  {
   "cell_type": "code",
   "execution_count": 3,
   "metadata": {},
   "outputs": [
    {
     "data": {
      "text/plain": [
       "'Unknown'"
      ]
     },
     "execution_count": 3,
     "metadata": {},
     "output_type": "execute_result"
    }
   ],
   "source": [
    "#3. Checking if a key exists in a dictionary\n",
    "restaurant_types.get('Olive Garden', 'Unknown')"
   ]
  },
  {
   "cell_type": "markdown",
   "metadata": {},
   "source": [
    "## Updating dictionaries"
   ]
  },
  {
   "cell_type": "code",
   "execution_count": 4,
   "metadata": {},
   "outputs": [],
   "source": [
    "#4. Adding a new key-value pair\n",
    "restaurant_types['Olive Garden'] = 'Italian'"
   ]
  },
  {
   "cell_type": "code",
   "execution_count": 5,
   "metadata": {},
   "outputs": [
    {
     "name": "stdout",
     "output_type": "stream",
     "text": [
      "{'Red Lobster': 'Seafood', 'Burger King': 'Fast Food', 'Safeway': 'Grocery', 'Olive Garden': 'Italian'}\n"
     ]
    }
   ],
   "source": [
    "#5. Overwriting  a value of a key\n",
    "restaurant_types['Safeway'] = 'Grocery'\n",
    "print(restaurant_types)"
   ]
  },
  {
   "cell_type": "code",
   "execution_count": 6,
   "metadata": {},
   "outputs": [
    {
     "name": "stdout",
     "output_type": "stream",
     "text": [
      "{'Red Lobster': 'Seafood', 'Safeway': 'Grocery', 'Olive Garden': 'Italian'}\n"
     ]
    }
   ],
   "source": [
    "#6. Drop a key-value pair\n",
    "del restaurant_types['Burger King']\n",
    "print(restaurant_types)"
   ]
  },
  {
   "cell_type": "markdown",
   "metadata": {},
   "source": [
    "## Nested dictionaries"
   ]
  },
  {
   "cell_type": "code",
   "execution_count": 7,
   "metadata": {},
   "outputs": [],
   "source": [
    "weather_dictionary = { \"coord\":{\"lon\":10,\n",
    "                                \"lat\":53.55},\n",
    "                        \"weather\":[{\"id\":800,\n",
    "                                    \"main\":\"Clear\",\n",
    "                                    \"description\":\"clear sky\",\n",
    "                                    \"icon\":\"01d\"}],\n",
    "                        \"base\":\"stations\",\n",
    "                        \"main\":{\"temp\":290.32,\n",
    "                                \"feels_like\":290.1,\n",
    "                                \"temp_min\":289.81,\n",
    "                                \"temp_max\":291.05,\n",
    "                                \"pressure\":1005,\n",
    "                                \"humidity\":77},\n",
    "                        \"visibility\":10000,\n",
    "                        \"wind\":{\"speed\":5.14,\n",
    "                                \"deg\":270},\n",
    "                        \"clouds\":{\"all\":0},\n",
    "                        \"dt\":1712655018,\n",
    "                        \"sys\":{\"type\":1,\n",
    "                                \"id\":1263,\n",
    "                                \"country\":\"DE\",\n",
    "                                \"sunrise\":1712637190,\n",
    "                                \"sunset\":1712686163},\n",
    "                        \"timezone\":7200,\n",
    "                        \"id\":2911298,\n",
    "                        \"name\":\"Hamburg\",\n",
    "                        \"cod\":200\n",
    "                    }"
   ]
  },
  {
   "cell_type": "code",
   "execution_count": 8,
   "metadata": {},
   "outputs": [
    {
     "name": "stdout",
     "output_type": "stream",
     "text": [
      "13\n"
     ]
    }
   ],
   "source": [
    "#7. Number of keys\n",
    "print(len(weather_dictionary))"
   ]
  },
  {
   "cell_type": "code",
   "execution_count": 9,
   "metadata": {},
   "outputs": [
    {
     "name": "stdout",
     "output_type": "stream",
     "text": [
      "dict_keys(['coord', 'weather', 'base', 'main', 'visibility', 'wind', 'clouds', 'dt', 'sys', 'timezone', 'id', 'name', 'cod'])\n"
     ]
    }
   ],
   "source": [
    "#8. List of keys\n",
    "print(weather_dictionary.keys())"
   ]
  },
  {
   "cell_type": "code",
   "execution_count": 10,
   "metadata": {},
   "outputs": [
    {
     "name": "stdout",
     "output_type": "stream",
     "text": [
      "dict_values([{'lon': 10, 'lat': 53.55}, [{'id': 800, 'main': 'Clear', 'description': 'clear sky', 'icon': '01d'}], 'stations', {'temp': 290.32, 'feels_like': 290.1, 'temp_min': 289.81, 'temp_max': 291.05, 'pressure': 1005, 'humidity': 77}, 10000, {'speed': 5.14, 'deg': 270}, {'all': 0}, 1712655018, {'type': 1, 'id': 1263, 'country': 'DE', 'sunrise': 1712637190, 'sunset': 1712686163}, 7200, 2911298, 'Hamburg', 200])\n"
     ]
    }
   ],
   "source": [
    "#9. List of values\n",
    "print(weather_dictionary.values())"
   ]
  },
  {
   "cell_type": "code",
   "execution_count": 11,
   "metadata": {},
   "outputs": [
    {
     "data": {
      "text/plain": [
       "53.55"
      ]
     },
     "execution_count": 11,
     "metadata": {},
     "output_type": "execute_result"
    }
   ],
   "source": [
    "#10. Getting a value from a dictionary\n",
    "weather_dictionary['coord']['lat']"
   ]
  },
  {
   "cell_type": "markdown",
   "metadata": {},
   "source": [
    "# For Loops"
   ]
  },
  {
   "cell_type": "code",
   "execution_count": 12,
   "metadata": {},
   "outputs": [],
   "source": [
    "prices = {'apples': '3.0', 'oranges': '2.5', 'kiwis': '4.0'}"
   ]
  },
  {
   "cell_type": "code",
   "execution_count": 13,
   "metadata": {},
   "outputs": [
    {
     "name": "stdout",
     "output_type": "stream",
     "text": [
      "apples\n",
      "oranges\n",
      "kiwis\n",
      "apples\n",
      "oranges\n",
      "kiwis\n"
     ]
    }
   ],
   "source": [
    "#11. Print the keys\n",
    "for key_prices in prices.keys():\n",
    "    print(key_prices)\n",
    "\n",
    "#2nd option\n",
    "for key in prices:\n",
    "    print(key)"
   ]
  },
  {
   "cell_type": "code",
   "execution_count": 14,
   "metadata": {},
   "outputs": [
    {
     "name": "stdout",
     "output_type": "stream",
     "text": [
      "('apples', '3.0')\n",
      "('oranges', '2.5')\n",
      "('kiwis', '4.0')\n",
      "apples\n",
      "3.0\n",
      "oranges\n",
      "2.5\n",
      "kiwis\n",
      "4.0\n"
     ]
    }
   ],
   "source": [
    "#12. Print key-value pairs\n",
    "for key_value_prices in prices.items():\n",
    "    print(key_value_prices)\n",
    "\n",
    "#2nd option\n",
    "for key in prices:\n",
    "    print(key)\n",
    "    print(prices[key])"
   ]
  },
  {
   "cell_type": "code",
   "execution_count": 15,
   "metadata": {},
   "outputs": [
    {
     "name": "stdout",
     "output_type": "stream",
     "text": [
      "2\n",
      "4\n",
      "6\n",
      "8\n",
      "2\n",
      "4\n",
      "6\n",
      "8\n"
     ]
    }
   ],
   "source": [
    "#13. Print number 2, 4, 6, 8\n",
    "test1= range(2, 9, 2)\n",
    "for i in test1:\n",
    "    print(i)\n",
    "\n",
    "#2nd option\n",
    "total = 0\n",
    "for i in range(4): #this means that we are going to commit the following line 4 times. so we repeat the total +=2 FOUR time(define by the range4)\n",
    "    total += 2\n",
    "    print(total)"
   ]
  },
  {
   "cell_type": "code",
   "execution_count": 16,
   "metadata": {},
   "outputs": [],
   "source": [
    "names = ['Alice', 'Bob', 'Charlie', 'Delia']\n",
    "jobs = ['doctor', 'builder', 'cook', 'developer']"
   ]
  },
  {
   "cell_type": "code",
   "execution_count": 17,
   "metadata": {},
   "outputs": [
    {
     "name": "stdout",
     "output_type": "stream",
     "text": [
      "Alice works as a doctor\n",
      "Bob works as a builder\n",
      "Charlie works as a cook\n",
      "Delia works as a developer\n"
     ]
    }
   ],
   "source": [
    "#14. Printing \"{name} works as a {job}\"\n",
    "for name, job in zip(names, jobs):\n",
    "    print(f'{name} works as a {job}')"
   ]
  },
  {
   "cell_type": "code",
   "execution_count": 18,
   "metadata": {},
   "outputs": [],
   "source": [
    "list_1 = [0,1,2,3,4,5,6,7,8,9,10]"
   ]
  },
  {
   "cell_type": "code",
   "execution_count": 20,
   "metadata": {},
   "outputs": [
    {
     "name": "stdout",
     "output_type": "stream",
     "text": [
      "0\n",
      "2\n",
      "4\n",
      "6\n",
      "8\n",
      "10\n",
      "[0, 2, 4, 6, 8, 10]\n"
     ]
    }
   ],
   "source": [
    "#15. Print even numbers and save them to a list\n",
    "list_even = []\n",
    "\n",
    "for i in list_1:\n",
    "    if i % 2 == 0:\n",
    "        print(i)\n",
    "        list_even.append(i)\n",
    "\n",
    "print(list_even)\n"
   ]
  },
  {
   "cell_type": "code",
   "execution_count": 21,
   "metadata": {},
   "outputs": [
    {
     "name": "stdout",
     "output_type": "stream",
     "text": [
      "0 0\n",
      "1 1\n",
      "2 2\n",
      "3 3\n",
      "4 4\n",
      "5 5\n",
      "6 6\n",
      "7 7\n",
      "8 8\n",
      "9 9\n",
      "10 10\n",
      "1 1\n",
      "3 3\n",
      "5 5\n",
      "7 7\n",
      "9 9\n"
     ]
    }
   ],
   "source": [
    "#16. Print the index + element\n",
    "for idx, i in enumerate(list_1):\n",
    "    print(idx,i)\n",
    "\n",
    "#2nd option\n",
    "for idx,num in enumerate(range(0,11)):\n",
    "    if num % 2 != 0:\n",
    "        print(idx, num)"
   ]
  },
  {
   "cell_type": "markdown",
   "metadata": {},
   "source": [
    "# While Loops"
   ]
  },
  {
   "cell_type": "code",
   "execution_count": 22,
   "metadata": {},
   "outputs": [
    {
     "data": {
      "text/plain": [
       "8"
      ]
     },
     "execution_count": 22,
     "metadata": {},
     "output_type": "execute_result"
    }
   ],
   "source": [
    "names  = ['Alice', 'Diane', 'Tom', 'Bob', 'Waldo', 'Ross', 'Sonia', 'Amy']\n",
    "\n",
    "found = False\n",
    "i = 0\n",
    "len(names)"
   ]
  },
  {
   "cell_type": "code",
   "execution_count": 23,
   "metadata": {},
   "outputs": [
    {
     "name": "stdout",
     "output_type": "stream",
     "text": [
      "Waldo is not found in loop:1\n",
      "Waldo is not found in loop:2\n",
      "Waldo is not found in loop:3\n",
      "Waldo is not found in loop:4\n",
      "We found Waldo in loop: 5\n"
     ]
    }
   ],
   "source": [
    "#17. Finding certain items in lists\n",
    "while i < len(names):\n",
    "    if names[i] == 'Waldo':\n",
    "        print(f'We found Waldo in loop: {i+1}')\n",
    "        break\n",
    "    else:\n",
    "        if names[i] != 'Waldo':\n",
    "            print(f'Waldo is not found in loop:{i+1}')\n",
    "    i += 1"
   ]
  }
 ],
 "metadata": {
  "kernelspec": {
   "display_name": "nf_sql",
   "language": "python",
   "name": "python3"
  },
  "language_info": {
   "codemirror_mode": {
    "name": "ipython",
    "version": 3
   },
   "file_extension": ".py",
   "mimetype": "text/x-python",
   "name": "python",
   "nbconvert_exporter": "python",
   "pygments_lexer": "ipython3",
   "version": "3.9.19"
  }
 },
 "nbformat": 4,
 "nbformat_minor": 2
}
